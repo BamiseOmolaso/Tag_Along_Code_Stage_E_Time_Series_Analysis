{
  "nbformat": 4,
  "nbformat_minor": 0,
  "metadata": {
    "colab": {
      "provenance": []
    },
    "kernelspec": {
      "name": "python3",
      "display_name": "Python 3"
    },
    "language_info": {
      "name": "python"
    }
  },
  "cells": [
    {
      "cell_type": "code",
      "execution_count": 1,
      "metadata": {
        "colab": {
          "base_uri": "https://localhost:8080/"
        },
        "id": "CGYhlB3d5Lg7",
        "outputId": "d64c216b-01f5-4b1b-b565-e264da5cdfc9"
      },
      "outputs": [
        {
          "output_type": "stream",
          "name": "stdout",
          "text": [
            "Drive already mounted at /content/drive; to attempt to forcibly remount, call drive.mount(\"/content/drive\", force_remount=True).\n"
          ]
        }
      ],
      "source": [
        "from google.colab import drive\n",
        "drive.mount ('/content/drive')"
      ]
    },
    {
      "cell_type": "code",
      "source": [
        "import os\n",
        "import pandas as pd\n",
        "import numpy as np\n",
        "import matplotlib.pyplot as plt\n",
        "%matplotlib inline\n",
        "import seaborn as sns\n",
        "from prophet import Prophet\n",
        "from sklearn.metrics import mean_absolute_error, mean_absolute_percentage_error, mean_squared_error\n",
        "import pytz\n",
        "\n",
        "\n",
        "# Display full lenght of data in cells\n",
        "pd.set_option('display.max_colwidth', None)\n",
        "\n",
        "# Display full length of number of displayed columns\n",
        "pd.set_option('display.max_columns', None)\n",
        "\n",
        "# Display floats with 2 decimals\n",
        "pd.set_option('display.float_format', '{:20,.2f}'.format)"
      ],
      "metadata": {
        "id": "bBAlUTiw6N8O"
      },
      "execution_count": 2,
      "outputs": []
    },
    {
      "cell_type": "code",
      "source": [
        "os.chdir('/content/drive/MyDrive/Colab Notebooks/Hamoye')\n",
        "!pwd"
      ],
      "metadata": {
        "colab": {
          "base_uri": "https://localhost:8080/"
        },
        "id": "Ryuyi_cL6hQq",
        "outputId": "fa7eca30-89ab-416c-dca7-a2aeaef28eea"
      },
      "execution_count": 3,
      "outputs": [
        {
          "output_type": "stream",
          "name": "stdout",
          "text": [
            "/content/drive/MyDrive/Colab Notebooks/Hamoye\n"
          ]
        }
      ]
    },
    {
      "cell_type": "code",
      "source": [
        "!ls"
      ],
      "metadata": {
        "colab": {
          "base_uri": "https://localhost:8080/"
        },
        "id": "b9bCJ6K_655v",
        "outputId": "39e7b11f-906b-4a98-fe3d-d6998258168e"
      },
      "execution_count": 4,
      "outputs": [
        {
          "output_type": "stream",
          "name": "stdout",
          "text": [
            "Time_series_analysis_and_forecast_DATASET.csv\n"
          ]
        }
      ]
    },
    {
      "cell_type": "code",
      "source": [
        "path = '/content/drive/MyDrive/Colab Notebooks/Hamoye/'"
      ],
      "metadata": {
        "id": "H78Dxa6F6oRH"
      },
      "execution_count": 5,
      "outputs": []
    },
    {
      "cell_type": "code",
      "source": [
        "df = pd.read_csv(path+\"Time_series_analysis_and_forecast_DATASET.csv\")\n",
        "\n",
        "print(\"Shape:\", df.shape)\n",
        "print(df.info())\n",
        "df.head()"
      ],
      "metadata": {
        "colab": {
          "base_uri": "https://localhost:8080/",
          "height": 449
        },
        "id": "P0fzp6Q-6oN8",
        "outputId": "ef4b6a81-3b2d-44ea-9bb3-a1afc906ee96"
      },
      "execution_count": 6,
      "outputs": [
        {
          "output_type": "stream",
          "name": "stdout",
          "text": [
            "Shape: (92016, 5)\n",
            "<class 'pandas.core.frame.DataFrame'>\n",
            "RangeIndex: 92016 entries, 0 to 92015\n",
            "Data columns (total 5 columns):\n",
            " #   Column     Non-Null Count  Dtype  \n",
            "---  ------     --------------  -----  \n",
            " 0   FullDate   92016 non-null  object \n",
            " 1   Tmax       92016 non-null  float64\n",
            " 2   SysLoad    92016 non-null  float64\n",
            " 3   GasPrice   92016 non-null  float64\n",
            " 4   ElecPrice  92016 non-null  float64\n",
            "dtypes: float64(4), object(1)\n",
            "memory usage: 3.5+ MB\n",
            "None\n"
          ]
        },
        {
          "output_type": "execute_result",
          "data": {
            "text/plain": [
              "              FullDate                 Tmax              SysLoad  \\\n",
              "0  2010-09-01 00:00:00                15.80             1,688.21   \n",
              "1  2010-09-01 01:00:00                15.80             1,669.20   \n",
              "2  2010-09-01 02:00:00                15.80             1,491.98   \n",
              "3  2010-09-01 03:00:00                15.80             1,330.76   \n",
              "4  2010-09-01 04:00:00                15.80             1,247.94   \n",
              "\n",
              "              GasPrice            ElecPrice  \n",
              "0                 3.69                23.71  \n",
              "1                 3.69                22.64  \n",
              "2                 3.69                22.57  \n",
              "3                 3.69                18.91  \n",
              "4                 3.69                18.03  "
            ],
            "text/html": [
              "\n",
              "  <div id=\"df-20e58b16-48b2-4cb5-933f-7ed38926927c\">\n",
              "    <div class=\"colab-df-container\">\n",
              "      <div>\n",
              "<style scoped>\n",
              "    .dataframe tbody tr th:only-of-type {\n",
              "        vertical-align: middle;\n",
              "    }\n",
              "\n",
              "    .dataframe tbody tr th {\n",
              "        vertical-align: top;\n",
              "    }\n",
              "\n",
              "    .dataframe thead th {\n",
              "        text-align: right;\n",
              "    }\n",
              "</style>\n",
              "<table border=\"1\" class=\"dataframe\">\n",
              "  <thead>\n",
              "    <tr style=\"text-align: right;\">\n",
              "      <th></th>\n",
              "      <th>FullDate</th>\n",
              "      <th>Tmax</th>\n",
              "      <th>SysLoad</th>\n",
              "      <th>GasPrice</th>\n",
              "      <th>ElecPrice</th>\n",
              "    </tr>\n",
              "  </thead>\n",
              "  <tbody>\n",
              "    <tr>\n",
              "      <th>0</th>\n",
              "      <td>2010-09-01 00:00:00</td>\n",
              "      <td>15.80</td>\n",
              "      <td>1,688.21</td>\n",
              "      <td>3.69</td>\n",
              "      <td>23.71</td>\n",
              "    </tr>\n",
              "    <tr>\n",
              "      <th>1</th>\n",
              "      <td>2010-09-01 01:00:00</td>\n",
              "      <td>15.80</td>\n",
              "      <td>1,669.20</td>\n",
              "      <td>3.69</td>\n",
              "      <td>22.64</td>\n",
              "    </tr>\n",
              "    <tr>\n",
              "      <th>2</th>\n",
              "      <td>2010-09-01 02:00:00</td>\n",
              "      <td>15.80</td>\n",
              "      <td>1,491.98</td>\n",
              "      <td>3.69</td>\n",
              "      <td>22.57</td>\n",
              "    </tr>\n",
              "    <tr>\n",
              "      <th>3</th>\n",
              "      <td>2010-09-01 03:00:00</td>\n",
              "      <td>15.80</td>\n",
              "      <td>1,330.76</td>\n",
              "      <td>3.69</td>\n",
              "      <td>18.91</td>\n",
              "    </tr>\n",
              "    <tr>\n",
              "      <th>4</th>\n",
              "      <td>2010-09-01 04:00:00</td>\n",
              "      <td>15.80</td>\n",
              "      <td>1,247.94</td>\n",
              "      <td>3.69</td>\n",
              "      <td>18.03</td>\n",
              "    </tr>\n",
              "  </tbody>\n",
              "</table>\n",
              "</div>\n",
              "      <button class=\"colab-df-convert\" onclick=\"convertToInteractive('df-20e58b16-48b2-4cb5-933f-7ed38926927c')\"\n",
              "              title=\"Convert this dataframe to an interactive table.\"\n",
              "              style=\"display:none;\">\n",
              "        \n",
              "  <svg xmlns=\"http://www.w3.org/2000/svg\" height=\"24px\"viewBox=\"0 0 24 24\"\n",
              "       width=\"24px\">\n",
              "    <path d=\"M0 0h24v24H0V0z\" fill=\"none\"/>\n",
              "    <path d=\"M18.56 5.44l.94 2.06.94-2.06 2.06-.94-2.06-.94-.94-2.06-.94 2.06-2.06.94zm-11 1L8.5 8.5l.94-2.06 2.06-.94-2.06-.94L8.5 2.5l-.94 2.06-2.06.94zm10 10l.94 2.06.94-2.06 2.06-.94-2.06-.94-.94-2.06-.94 2.06-2.06.94z\"/><path d=\"M17.41 7.96l-1.37-1.37c-.4-.4-.92-.59-1.43-.59-.52 0-1.04.2-1.43.59L10.3 9.45l-7.72 7.72c-.78.78-.78 2.05 0 2.83L4 21.41c.39.39.9.59 1.41.59.51 0 1.02-.2 1.41-.59l7.78-7.78 2.81-2.81c.8-.78.8-2.07 0-2.86zM5.41 20L4 18.59l7.72-7.72 1.47 1.35L5.41 20z\"/>\n",
              "  </svg>\n",
              "      </button>\n",
              "      \n",
              "  <style>\n",
              "    .colab-df-container {\n",
              "      display:flex;\n",
              "      flex-wrap:wrap;\n",
              "      gap: 12px;\n",
              "    }\n",
              "\n",
              "    .colab-df-convert {\n",
              "      background-color: #E8F0FE;\n",
              "      border: none;\n",
              "      border-radius: 50%;\n",
              "      cursor: pointer;\n",
              "      display: none;\n",
              "      fill: #1967D2;\n",
              "      height: 32px;\n",
              "      padding: 0 0 0 0;\n",
              "      width: 32px;\n",
              "    }\n",
              "\n",
              "    .colab-df-convert:hover {\n",
              "      background-color: #E2EBFA;\n",
              "      box-shadow: 0px 1px 2px rgba(60, 64, 67, 0.3), 0px 1px 3px 1px rgba(60, 64, 67, 0.15);\n",
              "      fill: #174EA6;\n",
              "    }\n",
              "\n",
              "    [theme=dark] .colab-df-convert {\n",
              "      background-color: #3B4455;\n",
              "      fill: #D2E3FC;\n",
              "    }\n",
              "\n",
              "    [theme=dark] .colab-df-convert:hover {\n",
              "      background-color: #434B5C;\n",
              "      box-shadow: 0px 1px 3px 1px rgba(0, 0, 0, 0.15);\n",
              "      filter: drop-shadow(0px 1px 2px rgba(0, 0, 0, 0.3));\n",
              "      fill: #FFFFFF;\n",
              "    }\n",
              "  </style>\n",
              "\n",
              "      <script>\n",
              "        const buttonEl =\n",
              "          document.querySelector('#df-20e58b16-48b2-4cb5-933f-7ed38926927c button.colab-df-convert');\n",
              "        buttonEl.style.display =\n",
              "          google.colab.kernel.accessAllowed ? 'block' : 'none';\n",
              "\n",
              "        async function convertToInteractive(key) {\n",
              "          const element = document.querySelector('#df-20e58b16-48b2-4cb5-933f-7ed38926927c');\n",
              "          const dataTable =\n",
              "            await google.colab.kernel.invokeFunction('convertToInteractive',\n",
              "                                                     [key], {});\n",
              "          if (!dataTable) return;\n",
              "\n",
              "          const docLinkHtml = 'Like what you see? Visit the ' +\n",
              "            '<a target=\"_blank\" href=https://colab.research.google.com/notebooks/data_table.ipynb>data table notebook</a>'\n",
              "            + ' to learn more about interactive tables.';\n",
              "          element.innerHTML = '';\n",
              "          dataTable['output_type'] = 'display_data';\n",
              "          await google.colab.output.renderOutput(dataTable, element);\n",
              "          const docLink = document.createElement('div');\n",
              "          docLink.innerHTML = docLinkHtml;\n",
              "          element.appendChild(docLink);\n",
              "        }\n",
              "      </script>\n",
              "    </div>\n",
              "  </div>\n",
              "  "
            ]
          },
          "metadata": {},
          "execution_count": 6
        }
      ]
    },
    {
      "cell_type": "code",
      "source": [
        "df.columns = df.columns.str.lower()"
      ],
      "metadata": {
        "id": "PbOtW_yO7KOu"
      },
      "execution_count": 7,
      "outputs": []
    },
    {
      "cell_type": "code",
      "source": [
        "df.columns"
      ],
      "metadata": {
        "colab": {
          "base_uri": "https://localhost:8080/"
        },
        "id": "7G3V5acS6oLj",
        "outputId": "d6de039e-16a8-4750-ae77-83dfa1a957e8"
      },
      "execution_count": 8,
      "outputs": [
        {
          "output_type": "execute_result",
          "data": {
            "text/plain": [
              "Index(['fulldate', 'tmax', 'sysload', 'gasprice', 'elecprice'], dtype='object')"
            ]
          },
          "metadata": {},
          "execution_count": 8
        }
      ]
    },
    {
      "cell_type": "code",
      "source": [
        "#Convert full date from object datatype to datetime\n",
        "\n",
        "df.fulldate= pd.to_datetime(df.fulldate)\n",
        "print(df.info())"
      ],
      "metadata": {
        "colab": {
          "base_uri": "https://localhost:8080/"
        },
        "id": "ifHSKnfg7pCi",
        "outputId": "07b11b24-5107-49b9-f1df-0f61208d4c92"
      },
      "execution_count": 9,
      "outputs": [
        {
          "output_type": "stream",
          "name": "stdout",
          "text": [
            "<class 'pandas.core.frame.DataFrame'>\n",
            "RangeIndex: 92016 entries, 0 to 92015\n",
            "Data columns (total 5 columns):\n",
            " #   Column     Non-Null Count  Dtype         \n",
            "---  ------     --------------  -----         \n",
            " 0   fulldate   92016 non-null  datetime64[ns]\n",
            " 1   tmax       92016 non-null  float64       \n",
            " 2   sysload    92016 non-null  float64       \n",
            " 3   gasprice   92016 non-null  float64       \n",
            " 4   elecprice  92016 non-null  float64       \n",
            "dtypes: datetime64[ns](1), float64(4)\n",
            "memory usage: 3.5 MB\n",
            "None\n"
          ]
        }
      ]
    },
    {
      "cell_type": "code",
      "source": [
        "#Downsample to daily data points because the data is on hourly basis\n",
        "\n",
        "#Set full date to index\n",
        "df.set_index(\"fulldate\", inplace= True )\n",
        "df.head() "
      ],
      "metadata": {
        "colab": {
          "base_uri": "https://localhost:8080/",
          "height": 238
        },
        "outputId": "3c56173a-4ab0-4d54-d15a-b33b6d80b683",
        "id": "D0OoxFG2QzLo"
      },
      "execution_count": 10,
      "outputs": [
        {
          "output_type": "execute_result",
          "data": {
            "text/plain": [
              "                                    tmax              sysload  \\\n",
              "fulldate                                                        \n",
              "2010-09-01 00:00:00                15.80             1,688.21   \n",
              "2010-09-01 01:00:00                15.80             1,669.20   \n",
              "2010-09-01 02:00:00                15.80             1,491.98   \n",
              "2010-09-01 03:00:00                15.80             1,330.76   \n",
              "2010-09-01 04:00:00                15.80             1,247.94   \n",
              "\n",
              "                                gasprice            elecprice  \n",
              "fulldate                                                       \n",
              "2010-09-01 00:00:00                 3.69                23.71  \n",
              "2010-09-01 01:00:00                 3.69                22.64  \n",
              "2010-09-01 02:00:00                 3.69                22.57  \n",
              "2010-09-01 03:00:00                 3.69                18.91  \n",
              "2010-09-01 04:00:00                 3.69                18.03  "
            ],
            "text/html": [
              "\n",
              "  <div id=\"df-2ab3c759-d663-4926-b167-050294df1952\">\n",
              "    <div class=\"colab-df-container\">\n",
              "      <div>\n",
              "<style scoped>\n",
              "    .dataframe tbody tr th:only-of-type {\n",
              "        vertical-align: middle;\n",
              "    }\n",
              "\n",
              "    .dataframe tbody tr th {\n",
              "        vertical-align: top;\n",
              "    }\n",
              "\n",
              "    .dataframe thead th {\n",
              "        text-align: right;\n",
              "    }\n",
              "</style>\n",
              "<table border=\"1\" class=\"dataframe\">\n",
              "  <thead>\n",
              "    <tr style=\"text-align: right;\">\n",
              "      <th></th>\n",
              "      <th>tmax</th>\n",
              "      <th>sysload</th>\n",
              "      <th>gasprice</th>\n",
              "      <th>elecprice</th>\n",
              "    </tr>\n",
              "    <tr>\n",
              "      <th>fulldate</th>\n",
              "      <th></th>\n",
              "      <th></th>\n",
              "      <th></th>\n",
              "      <th></th>\n",
              "    </tr>\n",
              "  </thead>\n",
              "  <tbody>\n",
              "    <tr>\n",
              "      <th>2010-09-01 00:00:00</th>\n",
              "      <td>15.80</td>\n",
              "      <td>1,688.21</td>\n",
              "      <td>3.69</td>\n",
              "      <td>23.71</td>\n",
              "    </tr>\n",
              "    <tr>\n",
              "      <th>2010-09-01 01:00:00</th>\n",
              "      <td>15.80</td>\n",
              "      <td>1,669.20</td>\n",
              "      <td>3.69</td>\n",
              "      <td>22.64</td>\n",
              "    </tr>\n",
              "    <tr>\n",
              "      <th>2010-09-01 02:00:00</th>\n",
              "      <td>15.80</td>\n",
              "      <td>1,491.98</td>\n",
              "      <td>3.69</td>\n",
              "      <td>22.57</td>\n",
              "    </tr>\n",
              "    <tr>\n",
              "      <th>2010-09-01 03:00:00</th>\n",
              "      <td>15.80</td>\n",
              "      <td>1,330.76</td>\n",
              "      <td>3.69</td>\n",
              "      <td>18.91</td>\n",
              "    </tr>\n",
              "    <tr>\n",
              "      <th>2010-09-01 04:00:00</th>\n",
              "      <td>15.80</td>\n",
              "      <td>1,247.94</td>\n",
              "      <td>3.69</td>\n",
              "      <td>18.03</td>\n",
              "    </tr>\n",
              "  </tbody>\n",
              "</table>\n",
              "</div>\n",
              "      <button class=\"colab-df-convert\" onclick=\"convertToInteractive('df-2ab3c759-d663-4926-b167-050294df1952')\"\n",
              "              title=\"Convert this dataframe to an interactive table.\"\n",
              "              style=\"display:none;\">\n",
              "        \n",
              "  <svg xmlns=\"http://www.w3.org/2000/svg\" height=\"24px\"viewBox=\"0 0 24 24\"\n",
              "       width=\"24px\">\n",
              "    <path d=\"M0 0h24v24H0V0z\" fill=\"none\"/>\n",
              "    <path d=\"M18.56 5.44l.94 2.06.94-2.06 2.06-.94-2.06-.94-.94-2.06-.94 2.06-2.06.94zm-11 1L8.5 8.5l.94-2.06 2.06-.94-2.06-.94L8.5 2.5l-.94 2.06-2.06.94zm10 10l.94 2.06.94-2.06 2.06-.94-2.06-.94-.94-2.06-.94 2.06-2.06.94z\"/><path d=\"M17.41 7.96l-1.37-1.37c-.4-.4-.92-.59-1.43-.59-.52 0-1.04.2-1.43.59L10.3 9.45l-7.72 7.72c-.78.78-.78 2.05 0 2.83L4 21.41c.39.39.9.59 1.41.59.51 0 1.02-.2 1.41-.59l7.78-7.78 2.81-2.81c.8-.78.8-2.07 0-2.86zM5.41 20L4 18.59l7.72-7.72 1.47 1.35L5.41 20z\"/>\n",
              "  </svg>\n",
              "      </button>\n",
              "      \n",
              "  <style>\n",
              "    .colab-df-container {\n",
              "      display:flex;\n",
              "      flex-wrap:wrap;\n",
              "      gap: 12px;\n",
              "    }\n",
              "\n",
              "    .colab-df-convert {\n",
              "      background-color: #E8F0FE;\n",
              "      border: none;\n",
              "      border-radius: 50%;\n",
              "      cursor: pointer;\n",
              "      display: none;\n",
              "      fill: #1967D2;\n",
              "      height: 32px;\n",
              "      padding: 0 0 0 0;\n",
              "      width: 32px;\n",
              "    }\n",
              "\n",
              "    .colab-df-convert:hover {\n",
              "      background-color: #E2EBFA;\n",
              "      box-shadow: 0px 1px 2px rgba(60, 64, 67, 0.3), 0px 1px 3px 1px rgba(60, 64, 67, 0.15);\n",
              "      fill: #174EA6;\n",
              "    }\n",
              "\n",
              "    [theme=dark] .colab-df-convert {\n",
              "      background-color: #3B4455;\n",
              "      fill: #D2E3FC;\n",
              "    }\n",
              "\n",
              "    [theme=dark] .colab-df-convert:hover {\n",
              "      background-color: #434B5C;\n",
              "      box-shadow: 0px 1px 3px 1px rgba(0, 0, 0, 0.15);\n",
              "      filter: drop-shadow(0px 1px 2px rgba(0, 0, 0, 0.3));\n",
              "      fill: #FFFFFF;\n",
              "    }\n",
              "  </style>\n",
              "\n",
              "      <script>\n",
              "        const buttonEl =\n",
              "          document.querySelector('#df-2ab3c759-d663-4926-b167-050294df1952 button.colab-df-convert');\n",
              "        buttonEl.style.display =\n",
              "          google.colab.kernel.accessAllowed ? 'block' : 'none';\n",
              "\n",
              "        async function convertToInteractive(key) {\n",
              "          const element = document.querySelector('#df-2ab3c759-d663-4926-b167-050294df1952');\n",
              "          const dataTable =\n",
              "            await google.colab.kernel.invokeFunction('convertToInteractive',\n",
              "                                                     [key], {});\n",
              "          if (!dataTable) return;\n",
              "\n",
              "          const docLinkHtml = 'Like what you see? Visit the ' +\n",
              "            '<a target=\"_blank\" href=https://colab.research.google.com/notebooks/data_table.ipynb>data table notebook</a>'\n",
              "            + ' to learn more about interactive tables.';\n",
              "          element.innerHTML = '';\n",
              "          dataTable['output_type'] = 'display_data';\n",
              "          await google.colab.output.renderOutput(dataTable, element);\n",
              "          const docLink = document.createElement('div');\n",
              "          docLink.innerHTML = docLinkHtml;\n",
              "          element.appendChild(docLink);\n",
              "        }\n",
              "      </script>\n",
              "    </div>\n",
              "  </div>\n",
              "  "
            ]
          },
          "metadata": {},
          "execution_count": 10
        }
      ]
    },
    {
      "cell_type": "code",
      "source": [
        "# Downsample to daily data points because the data is on hourly basis\n",
        "\n",
        "df_daily = df.resample(\"D\").mean()\n",
        "print(\"Shape Before Resampling:\", df.shape) \n",
        "print(\"Shape After Resampling:\", df_daily.shape)\n",
        "df_daily.head()"
      ],
      "metadata": {
        "colab": {
          "base_uri": "https://localhost:8080/",
          "height": 272
        },
        "outputId": "b3c08b00-4729-4df1-ffd1-fcbdf9562633",
        "id": "5Pt9bPkhQ-iZ"
      },
      "execution_count": 11,
      "outputs": [
        {
          "output_type": "stream",
          "name": "stdout",
          "text": [
            "Shape Before Resampling: (92016, 4)\n",
            "Shape After Resampling: (3834, 4)\n"
          ]
        },
        {
          "output_type": "execute_result",
          "data": {
            "text/plain": [
              "                           tmax              sysload             gasprice  \\\n",
              "fulldate                                                                    \n",
              "2010-09-01                15.80             1,731.89                 3.69   \n",
              "2010-09-02                15.40             1,620.79                 3.69   \n",
              "2010-09-03                18.30             1,736.07                 4.45   \n",
              "2010-09-04                13.70             1,484.92                 3.39   \n",
              "2010-09-05                14.90             1,483.81                 4.45   \n",
              "\n",
              "                      elecprice  \n",
              "fulldate                         \n",
              "2010-09-01               114.65  \n",
              "2010-09-02                23.78  \n",
              "2010-09-03                21.04  \n",
              "2010-09-04                20.93  \n",
              "2010-09-05                20.86  "
            ],
            "text/html": [
              "\n",
              "  <div id=\"df-2e25b6f8-c580-4b26-8cfc-1d4f3aea0c7e\">\n",
              "    <div class=\"colab-df-container\">\n",
              "      <div>\n",
              "<style scoped>\n",
              "    .dataframe tbody tr th:only-of-type {\n",
              "        vertical-align: middle;\n",
              "    }\n",
              "\n",
              "    .dataframe tbody tr th {\n",
              "        vertical-align: top;\n",
              "    }\n",
              "\n",
              "    .dataframe thead th {\n",
              "        text-align: right;\n",
              "    }\n",
              "</style>\n",
              "<table border=\"1\" class=\"dataframe\">\n",
              "  <thead>\n",
              "    <tr style=\"text-align: right;\">\n",
              "      <th></th>\n",
              "      <th>tmax</th>\n",
              "      <th>sysload</th>\n",
              "      <th>gasprice</th>\n",
              "      <th>elecprice</th>\n",
              "    </tr>\n",
              "    <tr>\n",
              "      <th>fulldate</th>\n",
              "      <th></th>\n",
              "      <th></th>\n",
              "      <th></th>\n",
              "      <th></th>\n",
              "    </tr>\n",
              "  </thead>\n",
              "  <tbody>\n",
              "    <tr>\n",
              "      <th>2010-09-01</th>\n",
              "      <td>15.80</td>\n",
              "      <td>1,731.89</td>\n",
              "      <td>3.69</td>\n",
              "      <td>114.65</td>\n",
              "    </tr>\n",
              "    <tr>\n",
              "      <th>2010-09-02</th>\n",
              "      <td>15.40</td>\n",
              "      <td>1,620.79</td>\n",
              "      <td>3.69</td>\n",
              "      <td>23.78</td>\n",
              "    </tr>\n",
              "    <tr>\n",
              "      <th>2010-09-03</th>\n",
              "      <td>18.30</td>\n",
              "      <td>1,736.07</td>\n",
              "      <td>4.45</td>\n",
              "      <td>21.04</td>\n",
              "    </tr>\n",
              "    <tr>\n",
              "      <th>2010-09-04</th>\n",
              "      <td>13.70</td>\n",
              "      <td>1,484.92</td>\n",
              "      <td>3.39</td>\n",
              "      <td>20.93</td>\n",
              "    </tr>\n",
              "    <tr>\n",
              "      <th>2010-09-05</th>\n",
              "      <td>14.90</td>\n",
              "      <td>1,483.81</td>\n",
              "      <td>4.45</td>\n",
              "      <td>20.86</td>\n",
              "    </tr>\n",
              "  </tbody>\n",
              "</table>\n",
              "</div>\n",
              "      <button class=\"colab-df-convert\" onclick=\"convertToInteractive('df-2e25b6f8-c580-4b26-8cfc-1d4f3aea0c7e')\"\n",
              "              title=\"Convert this dataframe to an interactive table.\"\n",
              "              style=\"display:none;\">\n",
              "        \n",
              "  <svg xmlns=\"http://www.w3.org/2000/svg\" height=\"24px\"viewBox=\"0 0 24 24\"\n",
              "       width=\"24px\">\n",
              "    <path d=\"M0 0h24v24H0V0z\" fill=\"none\"/>\n",
              "    <path d=\"M18.56 5.44l.94 2.06.94-2.06 2.06-.94-2.06-.94-.94-2.06-.94 2.06-2.06.94zm-11 1L8.5 8.5l.94-2.06 2.06-.94-2.06-.94L8.5 2.5l-.94 2.06-2.06.94zm10 10l.94 2.06.94-2.06 2.06-.94-2.06-.94-.94-2.06-.94 2.06-2.06.94z\"/><path d=\"M17.41 7.96l-1.37-1.37c-.4-.4-.92-.59-1.43-.59-.52 0-1.04.2-1.43.59L10.3 9.45l-7.72 7.72c-.78.78-.78 2.05 0 2.83L4 21.41c.39.39.9.59 1.41.59.51 0 1.02-.2 1.41-.59l7.78-7.78 2.81-2.81c.8-.78.8-2.07 0-2.86zM5.41 20L4 18.59l7.72-7.72 1.47 1.35L5.41 20z\"/>\n",
              "  </svg>\n",
              "      </button>\n",
              "      \n",
              "  <style>\n",
              "    .colab-df-container {\n",
              "      display:flex;\n",
              "      flex-wrap:wrap;\n",
              "      gap: 12px;\n",
              "    }\n",
              "\n",
              "    .colab-df-convert {\n",
              "      background-color: #E8F0FE;\n",
              "      border: none;\n",
              "      border-radius: 50%;\n",
              "      cursor: pointer;\n",
              "      display: none;\n",
              "      fill: #1967D2;\n",
              "      height: 32px;\n",
              "      padding: 0 0 0 0;\n",
              "      width: 32px;\n",
              "    }\n",
              "\n",
              "    .colab-df-convert:hover {\n",
              "      background-color: #E2EBFA;\n",
              "      box-shadow: 0px 1px 2px rgba(60, 64, 67, 0.3), 0px 1px 3px 1px rgba(60, 64, 67, 0.15);\n",
              "      fill: #174EA6;\n",
              "    }\n",
              "\n",
              "    [theme=dark] .colab-df-convert {\n",
              "      background-color: #3B4455;\n",
              "      fill: #D2E3FC;\n",
              "    }\n",
              "\n",
              "    [theme=dark] .colab-df-convert:hover {\n",
              "      background-color: #434B5C;\n",
              "      box-shadow: 0px 1px 3px 1px rgba(0, 0, 0, 0.15);\n",
              "      filter: drop-shadow(0px 1px 2px rgba(0, 0, 0, 0.3));\n",
              "      fill: #FFFFFF;\n",
              "    }\n",
              "  </style>\n",
              "\n",
              "      <script>\n",
              "        const buttonEl =\n",
              "          document.querySelector('#df-2e25b6f8-c580-4b26-8cfc-1d4f3aea0c7e button.colab-df-convert');\n",
              "        buttonEl.style.display =\n",
              "          google.colab.kernel.accessAllowed ? 'block' : 'none';\n",
              "\n",
              "        async function convertToInteractive(key) {\n",
              "          const element = document.querySelector('#df-2e25b6f8-c580-4b26-8cfc-1d4f3aea0c7e');\n",
              "          const dataTable =\n",
              "            await google.colab.kernel.invokeFunction('convertToInteractive',\n",
              "                                                     [key], {});\n",
              "          if (!dataTable) return;\n",
              "\n",
              "          const docLinkHtml = 'Like what you see? Visit the ' +\n",
              "            '<a target=\"_blank\" href=https://colab.research.google.com/notebooks/data_table.ipynb>data table notebook</a>'\n",
              "            + ' to learn more about interactive tables.';\n",
              "          element.innerHTML = '';\n",
              "          dataTable['output_type'] = 'display_data';\n",
              "          await google.colab.output.renderOutput(dataTable, element);\n",
              "          const docLink = document.createElement('div');\n",
              "          docLink.innerHTML = docLinkHtml;\n",
              "          element.appendChild(docLink);\n",
              "        }\n",
              "      </script>\n",
              "    </div>\n",
              "  </div>\n",
              "  "
            ]
          },
          "metadata": {},
          "execution_count": 11
        }
      ]
    },
    {
      "cell_type": "code",
      "source": [
        "#Reset the index to make full date a column again\n",
        "\n",
        "df_daily.reset_index(inplace=True)"
      ],
      "metadata": {
        "id": "XVPuehuORVgG"
      },
      "execution_count": 12,
      "outputs": []
    },
    {
      "cell_type": "code",
      "source": [
        "df_daily.head()"
      ],
      "metadata": {
        "colab": {
          "base_uri": "https://localhost:8080/",
          "height": 206
        },
        "outputId": "9bb9fbc0-6079-42df-c26c-c30257c67787",
        "id": "3JALtP7LRdot"
      },
      "execution_count": 13,
      "outputs": [
        {
          "output_type": "execute_result",
          "data": {
            "text/plain": [
              "    fulldate                 tmax              sysload             gasprice  \\\n",
              "0 2010-09-01                15.80             1,731.89                 3.69   \n",
              "1 2010-09-02                15.40             1,620.79                 3.69   \n",
              "2 2010-09-03                18.30             1,736.07                 4.45   \n",
              "3 2010-09-04                13.70             1,484.92                 3.39   \n",
              "4 2010-09-05                14.90             1,483.81                 4.45   \n",
              "\n",
              "             elecprice  \n",
              "0               114.65  \n",
              "1                23.78  \n",
              "2                21.04  \n",
              "3                20.93  \n",
              "4                20.86  "
            ],
            "text/html": [
              "\n",
              "  <div id=\"df-de062750-de23-438b-b394-099a09f8298d\">\n",
              "    <div class=\"colab-df-container\">\n",
              "      <div>\n",
              "<style scoped>\n",
              "    .dataframe tbody tr th:only-of-type {\n",
              "        vertical-align: middle;\n",
              "    }\n",
              "\n",
              "    .dataframe tbody tr th {\n",
              "        vertical-align: top;\n",
              "    }\n",
              "\n",
              "    .dataframe thead th {\n",
              "        text-align: right;\n",
              "    }\n",
              "</style>\n",
              "<table border=\"1\" class=\"dataframe\">\n",
              "  <thead>\n",
              "    <tr style=\"text-align: right;\">\n",
              "      <th></th>\n",
              "      <th>fulldate</th>\n",
              "      <th>tmax</th>\n",
              "      <th>sysload</th>\n",
              "      <th>gasprice</th>\n",
              "      <th>elecprice</th>\n",
              "    </tr>\n",
              "  </thead>\n",
              "  <tbody>\n",
              "    <tr>\n",
              "      <th>0</th>\n",
              "      <td>2010-09-01</td>\n",
              "      <td>15.80</td>\n",
              "      <td>1,731.89</td>\n",
              "      <td>3.69</td>\n",
              "      <td>114.65</td>\n",
              "    </tr>\n",
              "    <tr>\n",
              "      <th>1</th>\n",
              "      <td>2010-09-02</td>\n",
              "      <td>15.40</td>\n",
              "      <td>1,620.79</td>\n",
              "      <td>3.69</td>\n",
              "      <td>23.78</td>\n",
              "    </tr>\n",
              "    <tr>\n",
              "      <th>2</th>\n",
              "      <td>2010-09-03</td>\n",
              "      <td>18.30</td>\n",
              "      <td>1,736.07</td>\n",
              "      <td>4.45</td>\n",
              "      <td>21.04</td>\n",
              "    </tr>\n",
              "    <tr>\n",
              "      <th>3</th>\n",
              "      <td>2010-09-04</td>\n",
              "      <td>13.70</td>\n",
              "      <td>1,484.92</td>\n",
              "      <td>3.39</td>\n",
              "      <td>20.93</td>\n",
              "    </tr>\n",
              "    <tr>\n",
              "      <th>4</th>\n",
              "      <td>2010-09-05</td>\n",
              "      <td>14.90</td>\n",
              "      <td>1,483.81</td>\n",
              "      <td>4.45</td>\n",
              "      <td>20.86</td>\n",
              "    </tr>\n",
              "  </tbody>\n",
              "</table>\n",
              "</div>\n",
              "      <button class=\"colab-df-convert\" onclick=\"convertToInteractive('df-de062750-de23-438b-b394-099a09f8298d')\"\n",
              "              title=\"Convert this dataframe to an interactive table.\"\n",
              "              style=\"display:none;\">\n",
              "        \n",
              "  <svg xmlns=\"http://www.w3.org/2000/svg\" height=\"24px\"viewBox=\"0 0 24 24\"\n",
              "       width=\"24px\">\n",
              "    <path d=\"M0 0h24v24H0V0z\" fill=\"none\"/>\n",
              "    <path d=\"M18.56 5.44l.94 2.06.94-2.06 2.06-.94-2.06-.94-.94-2.06-.94 2.06-2.06.94zm-11 1L8.5 8.5l.94-2.06 2.06-.94-2.06-.94L8.5 2.5l-.94 2.06-2.06.94zm10 10l.94 2.06.94-2.06 2.06-.94-2.06-.94-.94-2.06-.94 2.06-2.06.94z\"/><path d=\"M17.41 7.96l-1.37-1.37c-.4-.4-.92-.59-1.43-.59-.52 0-1.04.2-1.43.59L10.3 9.45l-7.72 7.72c-.78.78-.78 2.05 0 2.83L4 21.41c.39.39.9.59 1.41.59.51 0 1.02-.2 1.41-.59l7.78-7.78 2.81-2.81c.8-.78.8-2.07 0-2.86zM5.41 20L4 18.59l7.72-7.72 1.47 1.35L5.41 20z\"/>\n",
              "  </svg>\n",
              "      </button>\n",
              "      \n",
              "  <style>\n",
              "    .colab-df-container {\n",
              "      display:flex;\n",
              "      flex-wrap:wrap;\n",
              "      gap: 12px;\n",
              "    }\n",
              "\n",
              "    .colab-df-convert {\n",
              "      background-color: #E8F0FE;\n",
              "      border: none;\n",
              "      border-radius: 50%;\n",
              "      cursor: pointer;\n",
              "      display: none;\n",
              "      fill: #1967D2;\n",
              "      height: 32px;\n",
              "      padding: 0 0 0 0;\n",
              "      width: 32px;\n",
              "    }\n",
              "\n",
              "    .colab-df-convert:hover {\n",
              "      background-color: #E2EBFA;\n",
              "      box-shadow: 0px 1px 2px rgba(60, 64, 67, 0.3), 0px 1px 3px 1px rgba(60, 64, 67, 0.15);\n",
              "      fill: #174EA6;\n",
              "    }\n",
              "\n",
              "    [theme=dark] .colab-df-convert {\n",
              "      background-color: #3B4455;\n",
              "      fill: #D2E3FC;\n",
              "    }\n",
              "\n",
              "    [theme=dark] .colab-df-convert:hover {\n",
              "      background-color: #434B5C;\n",
              "      box-shadow: 0px 1px 3px 1px rgba(0, 0, 0, 0.15);\n",
              "      filter: drop-shadow(0px 1px 2px rgba(0, 0, 0, 0.3));\n",
              "      fill: #FFFFFF;\n",
              "    }\n",
              "  </style>\n",
              "\n",
              "      <script>\n",
              "        const buttonEl =\n",
              "          document.querySelector('#df-de062750-de23-438b-b394-099a09f8298d button.colab-df-convert');\n",
              "        buttonEl.style.display =\n",
              "          google.colab.kernel.accessAllowed ? 'block' : 'none';\n",
              "\n",
              "        async function convertToInteractive(key) {\n",
              "          const element = document.querySelector('#df-de062750-de23-438b-b394-099a09f8298d');\n",
              "          const dataTable =\n",
              "            await google.colab.kernel.invokeFunction('convertToInteractive',\n",
              "                                                     [key], {});\n",
              "          if (!dataTable) return;\n",
              "\n",
              "          const docLinkHtml = 'Like what you see? Visit the ' +\n",
              "            '<a target=\"_blank\" href=https://colab.research.google.com/notebooks/data_table.ipynb>data table notebook</a>'\n",
              "            + ' to learn more about interactive tables.';\n",
              "          element.innerHTML = '';\n",
              "          dataTable['output_type'] = 'display_data';\n",
              "          await google.colab.output.renderOutput(dataTable, element);\n",
              "          const docLink = document.createElement('div');\n",
              "          docLink.innerHTML = docLinkHtml;\n",
              "          element.appendChild(docLink);\n",
              "        }\n",
              "      </script>\n",
              "    </div>\n",
              "  </div>\n",
              "  "
            ]
          },
          "metadata": {},
          "execution_count": 13
        }
      ]
    },
    {
      "cell_type": "code",
      "source": [
        "df_daily = df_daily.rename(columns={\"fulldate\" : \"ds\" , \"elecprice\" : \"y\"})\n",
        "print(df_daily.shape)\n",
        "print(df_daily.info())\n",
        "df_daily.head()"
      ],
      "metadata": {
        "colab": {
          "base_uri": "https://localhost:8080/",
          "height": 449
        },
        "outputId": "3aed004b-4573-469a-a915-8c62e29647fa",
        "id": "RghB-VAORkuN"
      },
      "execution_count": 14,
      "outputs": [
        {
          "output_type": "stream",
          "name": "stdout",
          "text": [
            "(3834, 5)\n",
            "<class 'pandas.core.frame.DataFrame'>\n",
            "RangeIndex: 3834 entries, 0 to 3833\n",
            "Data columns (total 5 columns):\n",
            " #   Column    Non-Null Count  Dtype         \n",
            "---  ------    --------------  -----         \n",
            " 0   ds        3834 non-null   datetime64[ns]\n",
            " 1   tmax      3834 non-null   float64       \n",
            " 2   sysload   3834 non-null   float64       \n",
            " 3   gasprice  3834 non-null   float64       \n",
            " 4   y         3834 non-null   float64       \n",
            "dtypes: datetime64[ns](1), float64(4)\n",
            "memory usage: 149.9 KB\n",
            "None\n"
          ]
        },
        {
          "output_type": "execute_result",
          "data": {
            "text/plain": [
              "          ds                 tmax              sysload             gasprice  \\\n",
              "0 2010-09-01                15.80             1,731.89                 3.69   \n",
              "1 2010-09-02                15.40             1,620.79                 3.69   \n",
              "2 2010-09-03                18.30             1,736.07                 4.45   \n",
              "3 2010-09-04                13.70             1,484.92                 3.39   \n",
              "4 2010-09-05                14.90             1,483.81                 4.45   \n",
              "\n",
              "                     y  \n",
              "0               114.65  \n",
              "1                23.78  \n",
              "2                21.04  \n",
              "3                20.93  \n",
              "4                20.86  "
            ],
            "text/html": [
              "\n",
              "  <div id=\"df-b64d64aa-d582-4e88-aa1c-ecd24cf5b707\">\n",
              "    <div class=\"colab-df-container\">\n",
              "      <div>\n",
              "<style scoped>\n",
              "    .dataframe tbody tr th:only-of-type {\n",
              "        vertical-align: middle;\n",
              "    }\n",
              "\n",
              "    .dataframe tbody tr th {\n",
              "        vertical-align: top;\n",
              "    }\n",
              "\n",
              "    .dataframe thead th {\n",
              "        text-align: right;\n",
              "    }\n",
              "</style>\n",
              "<table border=\"1\" class=\"dataframe\">\n",
              "  <thead>\n",
              "    <tr style=\"text-align: right;\">\n",
              "      <th></th>\n",
              "      <th>ds</th>\n",
              "      <th>tmax</th>\n",
              "      <th>sysload</th>\n",
              "      <th>gasprice</th>\n",
              "      <th>y</th>\n",
              "    </tr>\n",
              "  </thead>\n",
              "  <tbody>\n",
              "    <tr>\n",
              "      <th>0</th>\n",
              "      <td>2010-09-01</td>\n",
              "      <td>15.80</td>\n",
              "      <td>1,731.89</td>\n",
              "      <td>3.69</td>\n",
              "      <td>114.65</td>\n",
              "    </tr>\n",
              "    <tr>\n",
              "      <th>1</th>\n",
              "      <td>2010-09-02</td>\n",
              "      <td>15.40</td>\n",
              "      <td>1,620.79</td>\n",
              "      <td>3.69</td>\n",
              "      <td>23.78</td>\n",
              "    </tr>\n",
              "    <tr>\n",
              "      <th>2</th>\n",
              "      <td>2010-09-03</td>\n",
              "      <td>18.30</td>\n",
              "      <td>1,736.07</td>\n",
              "      <td>4.45</td>\n",
              "      <td>21.04</td>\n",
              "    </tr>\n",
              "    <tr>\n",
              "      <th>3</th>\n",
              "      <td>2010-09-04</td>\n",
              "      <td>13.70</td>\n",
              "      <td>1,484.92</td>\n",
              "      <td>3.39</td>\n",
              "      <td>20.93</td>\n",
              "    </tr>\n",
              "    <tr>\n",
              "      <th>4</th>\n",
              "      <td>2010-09-05</td>\n",
              "      <td>14.90</td>\n",
              "      <td>1,483.81</td>\n",
              "      <td>4.45</td>\n",
              "      <td>20.86</td>\n",
              "    </tr>\n",
              "  </tbody>\n",
              "</table>\n",
              "</div>\n",
              "      <button class=\"colab-df-convert\" onclick=\"convertToInteractive('df-b64d64aa-d582-4e88-aa1c-ecd24cf5b707')\"\n",
              "              title=\"Convert this dataframe to an interactive table.\"\n",
              "              style=\"display:none;\">\n",
              "        \n",
              "  <svg xmlns=\"http://www.w3.org/2000/svg\" height=\"24px\"viewBox=\"0 0 24 24\"\n",
              "       width=\"24px\">\n",
              "    <path d=\"M0 0h24v24H0V0z\" fill=\"none\"/>\n",
              "    <path d=\"M18.56 5.44l.94 2.06.94-2.06 2.06-.94-2.06-.94-.94-2.06-.94 2.06-2.06.94zm-11 1L8.5 8.5l.94-2.06 2.06-.94-2.06-.94L8.5 2.5l-.94 2.06-2.06.94zm10 10l.94 2.06.94-2.06 2.06-.94-2.06-.94-.94-2.06-.94 2.06-2.06.94z\"/><path d=\"M17.41 7.96l-1.37-1.37c-.4-.4-.92-.59-1.43-.59-.52 0-1.04.2-1.43.59L10.3 9.45l-7.72 7.72c-.78.78-.78 2.05 0 2.83L4 21.41c.39.39.9.59 1.41.59.51 0 1.02-.2 1.41-.59l7.78-7.78 2.81-2.81c.8-.78.8-2.07 0-2.86zM5.41 20L4 18.59l7.72-7.72 1.47 1.35L5.41 20z\"/>\n",
              "  </svg>\n",
              "      </button>\n",
              "      \n",
              "  <style>\n",
              "    .colab-df-container {\n",
              "      display:flex;\n",
              "      flex-wrap:wrap;\n",
              "      gap: 12px;\n",
              "    }\n",
              "\n",
              "    .colab-df-convert {\n",
              "      background-color: #E8F0FE;\n",
              "      border: none;\n",
              "      border-radius: 50%;\n",
              "      cursor: pointer;\n",
              "      display: none;\n",
              "      fill: #1967D2;\n",
              "      height: 32px;\n",
              "      padding: 0 0 0 0;\n",
              "      width: 32px;\n",
              "    }\n",
              "\n",
              "    .colab-df-convert:hover {\n",
              "      background-color: #E2EBFA;\n",
              "      box-shadow: 0px 1px 2px rgba(60, 64, 67, 0.3), 0px 1px 3px 1px rgba(60, 64, 67, 0.15);\n",
              "      fill: #174EA6;\n",
              "    }\n",
              "\n",
              "    [theme=dark] .colab-df-convert {\n",
              "      background-color: #3B4455;\n",
              "      fill: #D2E3FC;\n",
              "    }\n",
              "\n",
              "    [theme=dark] .colab-df-convert:hover {\n",
              "      background-color: #434B5C;\n",
              "      box-shadow: 0px 1px 3px 1px rgba(0, 0, 0, 0.15);\n",
              "      filter: drop-shadow(0px 1px 2px rgba(0, 0, 0, 0.3));\n",
              "      fill: #FFFFFF;\n",
              "    }\n",
              "  </style>\n",
              "\n",
              "      <script>\n",
              "        const buttonEl =\n",
              "          document.querySelector('#df-b64d64aa-d582-4e88-aa1c-ecd24cf5b707 button.colab-df-convert');\n",
              "        buttonEl.style.display =\n",
              "          google.colab.kernel.accessAllowed ? 'block' : 'none';\n",
              "\n",
              "        async function convertToInteractive(key) {\n",
              "          const element = document.querySelector('#df-b64d64aa-d582-4e88-aa1c-ecd24cf5b707');\n",
              "          const dataTable =\n",
              "            await google.colab.kernel.invokeFunction('convertToInteractive',\n",
              "                                                     [key], {});\n",
              "          if (!dataTable) return;\n",
              "\n",
              "          const docLinkHtml = 'Like what you see? Visit the ' +\n",
              "            '<a target=\"_blank\" href=https://colab.research.google.com/notebooks/data_table.ipynb>data table notebook</a>'\n",
              "            + ' to learn more about interactive tables.';\n",
              "          element.innerHTML = '';\n",
              "          dataTable['output_type'] = 'display_data';\n",
              "          await google.colab.output.renderOutput(dataTable, element);\n",
              "          const docLink = document.createElement('div');\n",
              "          docLink.innerHTML = docLinkHtml;\n",
              "          element.appendChild(docLink);\n",
              "        }\n",
              "      </script>\n",
              "    </div>\n",
              "  </div>\n",
              "  "
            ]
          },
          "metadata": {},
          "execution_count": 14
        }
      ]
    },
    {
      "cell_type": "code",
      "source": [
        "#Visualize the data\n",
        "\n",
        "# plot the time series\n",
        "fig, ax = plt.subplots(figsize=(14,6))\n",
        "df_daily.plot(x=\"ds\", y='y', ax=ax);"
      ],
      "metadata": {
        "colab": {
          "base_uri": "https://localhost:8080/",
          "height": 389
        },
        "outputId": "a300ec0b-1e15-436a-998d-e7ff394d8c59",
        "id": "THwpiww5SAPw"
      },
      "execution_count": 15,
      "outputs": [
        {
          "output_type": "display_data",
          "data": {
            "text/plain": [
              "<Figure size 1008x432 with 1 Axes>"
            ],
            "image/png": "[encoded data removed]"
          },
          "metadata": {
            "needs_background": "light"
          }
        }
      ]
    },
    {
      "cell_type": "code",
      "source": [
        "df_daily.info()"
      ],
      "metadata": {
        "colab": {
          "base_uri": "https://localhost:8080/"
        },
        "id": "BVfsBCKjJxEN",
        "outputId": "7dcdcd94-249e-484d-b5c4-86009a15d77f"
      },
      "execution_count": 16,
      "outputs": [
        {
          "output_type": "stream",
          "name": "stdout",
          "text": [
            "<class 'pandas.core.frame.DataFrame'>\n",
            "RangeIndex: 3834 entries, 0 to 3833\n",
            "Data columns (total 5 columns):\n",
            " #   Column    Non-Null Count  Dtype         \n",
            "---  ------    --------------  -----         \n",
            " 0   ds        3834 non-null   datetime64[ns]\n",
            " 1   tmax      3834 non-null   float64       \n",
            " 2   sysload   3834 non-null   float64       \n",
            " 3   gasprice  3834 non-null   float64       \n",
            " 4   y         3834 non-null   float64       \n",
            "dtypes: datetime64[ns](1), float64(4)\n",
            "memory usage: 149.9 KB\n"
          ]
        }
      ]
    },
    {
      "cell_type": "code",
      "source": [
        "#Split the data with df_daily\n",
        "\n",
        "train = df_daily.iloc[:2757]\n",
        "test = df_daily.iloc[2757:]\n",
        "\n",
        "print(\"train shape:\", train.shape)\n",
        "print(\"test shape:\", test.shape)"
      ],
      "metadata": {
        "colab": {
          "base_uri": "https://localhost:8080/"
        },
        "outputId": "a41c9ff4-e0de-4569-9580-e6688d369e54",
        "id": "JGIjw7SISaxF"
      },
      "execution_count": 17,
      "outputs": [
        {
          "output_type": "stream",
          "name": "stdout",
          "text": [
            "train shape: (2757, 5)\n",
            "test shape: (1077, 5)\n"
          ]
        }
      ]
    },
    {
      "cell_type": "code",
      "source": [
        "# Check the start and end time of the training and testing dataset\n",
        "print('The start time of the training dataset is ', train['ds'].min())\n",
        "print('The end time of the training dataset is ', train['ds'].max())\n",
        "print('The start time of the testing dataset is ', test['ds'].min())\n",
        "print('The end time of the testing dataset is ', test['ds'].max())"
      ],
      "metadata": {
        "colab": {
          "base_uri": "https://localhost:8080/"
        },
        "outputId": "ffe4516b-780b-4166-b116-3faf8495922d",
        "id": "KnphHFkrSo-V"
      },
      "execution_count": 18,
      "outputs": [
        {
          "output_type": "stream",
          "name": "stdout",
          "text": [
            "The start time of the training dataset is  2010-09-01 00:00:00\n",
            "The end time of the training dataset is  2018-03-19 00:00:00\n",
            "The start time of the testing dataset is  2018-03-20 00:00:00\n",
            "The end time of the testing dataset is  2021-02-28 00:00:00\n"
          ]
        }
      ]
    },
    {
      "cell_type": "markdown",
      "source": [
        "## Univariate Time series model.\n",
        "\n",
        "**- I discovered that you don't necessarily have to create a new DataFrame to pull out the ds and y columns as once it's present as a named column in the data, prophet automatically selects them.**"
      ],
      "metadata": {
        "id": "AGZaB8DfUFsz"
      }
    },
    {
      "cell_type": "code",
      "source": [
        "#model building df_daily\n",
        "\n",
        "model_univariate = Prophet()\n",
        "model_univariate.fit(train)"
      ],
      "metadata": {
        "colab": {
          "base_uri": "https://localhost:8080/"
        },
        "outputId": "d9e0a2f7-334c-454a-ded7-46c0540a5627",
        "id": "r_ADOT8ASx2F"
      },
      "execution_count": 19,
      "outputs": [
        {
          "output_type": "stream",
          "name": "stderr",
          "text": [
            "INFO:prophet:Disabling daily seasonality. Run prophet with daily_seasonality=True to override this.\n",
            "DEBUG:cmdstanpy:input tempfile: /tmp/tmpr6qgeliq/o35f50xg.json\n",
            "DEBUG:cmdstanpy:input tempfile: /tmp/tmpr6qgeliq/znfl3y0z.json\n",
            "DEBUG:cmdstanpy:idx 0\n",
            "DEBUG:cmdstanpy:running CmdStan, num_threads: None\n",
            "DEBUG:cmdstanpy:CmdStan args: ['/usr/local/lib/python3.8/dist-packages/prophet/stan_model/prophet_model.bin', 'random', 'seed=35622', 'data', 'file=/tmp/tmpr6qgeliq/o35f50xg.json', 'init=/tmp/tmpr6qgeliq/znfl3y0z.json', 'output', 'file=/tmp/tmpr6qgeliq/prophet_modelp07my4a0/prophet_model-20230122145635.csv', 'method=optimize', 'algorithm=lbfgs', 'iter=10000']\n",
            "14:56:35 - cmdstanpy - INFO - Chain [1] start processing\n",
            "INFO:cmdstanpy:Chain [1] start processing\n",
            "14:56:36 - cmdstanpy - INFO - Chain [1] done processing\n",
            "INFO:cmdstanpy:Chain [1] done processing\n"
          ]
        },
        {
          "output_type": "execute_result",
          "data": {
            "text/plain": [
              "<prophet.forecaster.Prophet at 0x7f0e044cb700>"
            ]
          },
          "metadata": {},
          "execution_count": 19
        }
      ]
    },
    {
      "cell_type": "code",
      "source": [
        "#make test data as the future into a dataframe\n",
        "\n",
        "future_univariate = pd.DataFrame(test['ds'])\n",
        "\n",
        "# future = model_univariate.make_future_dataframe(periods=len(test), freq='1D')"
      ],
      "metadata": {
        "id": "QJf5LelAZKKs"
      },
      "execution_count": 20,
      "outputs": []
    },
    {
      "cell_type": "code",
      "source": [
        "# Make prediction\n",
        "forecast_univariate = model_univariate.predict(future_univariate)\n",
        "\n",
        "# Visualize the forecast\n",
        "model_univariate.plot(forecast_univariate);"
      ],
      "metadata": {
        "colab": {
          "base_uri": "https://localhost:8080/",
          "height": 441
        },
        "id": "apilRdqVLTzT",
        "outputId": "464d1e18-dbd5-4476-f86d-6c3458ee3d89"
      },
      "execution_count": 21,
      "outputs": [
        {
          "output_type": "display_data",
          "data": {
            "text/plain": [
              "<Figure size 720x432 with 1 Axes>"
            ],
            "image/png": "[encoded data removed]"
          },
          "metadata": {}
        }
      ]
    },
    {
      "cell_type": "code",
      "source": [
        "# Visualize the forecast components\n",
        "model_univariate.plot_components(forecast_univariate);"
      ],
      "metadata": {
        "colab": {
          "base_uri": "https://localhost:8080/",
          "height": 657
        },
        "id": "5vIfGz_bW6ss",
        "outputId": "243456e2-4ab3-405d-e388-1b54b51b752d"
      },
      "execution_count": 22,
      "outputs": [
        {
          "output_type": "display_data",
          "data": {
            "text/plain": [
              "<Figure size 648x648 with 3 Axes>"
            ],
            "image/png": "[encoded data removed]"
          },
          "metadata": {}
        }
      ]
    },
    {
      "cell_type": "code",
      "source": [
        "forecast_univariate.head()"
      ],
      "metadata": {
        "colab": {
          "base_uri": "https://localhost:8080/",
          "height": 357
        },
        "id": "AgvjDC9IXJxW",
        "outputId": "ce940fd8-1fcc-4f1d-8e00-b56df272a548"
      },
      "execution_count": 23,
      "outputs": [
        {
          "output_type": "execute_result",
          "data": {
            "text/plain": [
              "          ds                trend           yhat_lower           yhat_upper  \\\n",
              "0 2018-03-20               112.06                10.29               201.21   \n",
              "1 2018-03-21               112.10                 8.54               213.55   \n",
              "2 2018-03-22               112.13                18.98               211.16   \n",
              "3 2018-03-23               112.16                13.66               202.83   \n",
              "4 2018-03-24               112.20                -7.52               190.98   \n",
              "\n",
              "           trend_lower          trend_upper       additive_terms  \\\n",
              "0               112.06               112.06                -6.46   \n",
              "1               112.10               112.10                -0.10   \n",
              "2               112.13               112.13                 3.99   \n",
              "3               112.16               112.16                -4.70   \n",
              "4               112.20               112.20               -18.27   \n",
              "\n",
              "   additive_terms_lower  additive_terms_upper               weekly  \\\n",
              "0                 -6.46                 -6.46                 0.41   \n",
              "1                 -0.10                 -0.10                 6.64   \n",
              "2                  3.99                  3.99                10.71   \n",
              "3                 -4.70                 -4.70                 2.09   \n",
              "4                -18.27                -18.27               -11.31   \n",
              "\n",
              "          weekly_lower         weekly_upper               yearly  \\\n",
              "0                 0.41                 0.41                -6.86   \n",
              "1                 6.64                 6.64                -6.74   \n",
              "2                10.71                10.71                -6.72   \n",
              "3                 2.09                 2.09                -6.80   \n",
              "4               -11.31               -11.31                -6.96   \n",
              "\n",
              "          yearly_lower         yearly_upper  multiplicative_terms  \\\n",
              "0                -6.86                -6.86                  0.00   \n",
              "1                -6.74                -6.74                  0.00   \n",
              "2                -6.72                -6.72                  0.00   \n",
              "3                -6.80                -6.80                  0.00   \n",
              "4                -6.96                -6.96                  0.00   \n",
              "\n",
              "   multiplicative_terms_lower  multiplicative_terms_upper                 yhat  \n",
              "0                        0.00                        0.00               105.61  \n",
              "1                        0.00                        0.00               111.99  \n",
              "2                        0.00                        0.00               116.12  \n",
              "3                        0.00                        0.00               107.46  \n",
              "4                        0.00                        0.00                93.93  "
            ],
            "text/html": [
              "\n",
              "  <div id=\"df-28401d48-1169-4a96-8830-74b62f1fdf26\">\n",
              "    <div class=\"colab-df-container\">\n",
              "      <div>\n",
              "<style scoped>\n",
              "    .dataframe tbody tr th:only-of-type {\n",
              "        vertical-align: middle;\n",
              "    }\n",
              "\n",
              "    .dataframe tbody tr th {\n",
              "        vertical-align: top;\n",
              "    }\n",
              "\n",
              "    .dataframe thead th {\n",
              "        text-align: right;\n",
              "    }\n",
              "</style>\n",
              "<table border=\"1\" class=\"dataframe\">\n",
              "  <thead>\n",
              "    <tr style=\"text-align: right;\">\n",
              "      <th></th>\n",
              "      <th>ds</th>\n",
              "      <th>trend</th>\n",
              "      <th>yhat_lower</th>\n",
              "      <th>yhat_upper</th>\n",
              "      <th>trend_lower</th>\n",
              "      <th>trend_upper</th>\n",
              "      <th>additive_terms</th>\n",
              "      <th>additive_terms_lower</th>\n",
              "      <th>additive_terms_upper</th>\n",
              "      <th>weekly</th>\n",
              "      <th>weekly_lower</th>\n",
              "      <th>weekly_upper</th>\n",
              "      <th>yearly</th>\n",
              "      <th>yearly_lower</th>\n",
              "      <th>yearly_upper</th>\n",
              "      <th>multiplicative_terms</th>\n",
              "      <th>multiplicative_terms_lower</th>\n",
              "      <th>multiplicative_terms_upper</th>\n",
              "      <th>yhat</th>\n",
              "    </tr>\n",
              "  </thead>\n",
              "  <tbody>\n",
              "    <tr>\n",
              "      <th>0</th>\n",
              "      <td>2018-03-20</td>\n",
              "      <td>112.06</td>\n",
              "      <td>10.29</td>\n",
              "      <td>201.21</td>\n",
              "      <td>112.06</td>\n",
              "      <td>112.06</td>\n",
              "      <td>-6.46</td>\n",
              "      <td>-6.46</td>\n",
              "      <td>-6.46</td>\n",
              "      <td>0.41</td>\n",
              "      <td>0.41</td>\n",
              "      <td>0.41</td>\n",
              "      <td>-6.86</td>\n",
              "      <td>-6.86</td>\n",
              "      <td>-6.86</td>\n",
              "      <td>0.00</td>\n",
              "      <td>0.00</td>\n",
              "      <td>0.00</td>\n",
              "      <td>105.61</td>\n",
              "    </tr>\n",
              "    <tr>\n",
              "      <th>1</th>\n",
              "      <td>2018-03-21</td>\n",
              "      <td>112.10</td>\n",
              "      <td>8.54</td>\n",
              "      <td>213.55</td>\n",
              "      <td>112.10</td>\n",
              "      <td>112.10</td>\n",
              "      <td>-0.10</td>\n",
              "      <td>-0.10</td>\n",
              "      <td>-0.10</td>\n",
              "      <td>6.64</td>\n",
              "      <td>6.64</td>\n",
              "      <td>6.64</td>\n",
              "      <td>-6.74</td>\n",
              "      <td>-6.74</td>\n",
              "      <td>-6.74</td>\n",
              "      <td>0.00</td>\n",
              "      <td>0.00</td>\n",
              "      <td>0.00</td>\n",
              "      <td>111.99</td>\n",
              "    </tr>\n",
              "    <tr>\n",
              "      <th>2</th>\n",
              "      <td>2018-03-22</td>\n",
              "      <td>112.13</td>\n",
              "      <td>18.98</td>\n",
              "      <td>211.16</td>\n",
              "      <td>112.13</td>\n",
              "      <td>112.13</td>\n",
              "      <td>3.99</td>\n",
              "      <td>3.99</td>\n",
              "      <td>3.99</td>\n",
              "      <td>10.71</td>\n",
              "      <td>10.71</td>\n",
              "      <td>10.71</td>\n",
              "      <td>-6.72</td>\n",
              "      <td>-6.72</td>\n",
              "      <td>-6.72</td>\n",
              "      <td>0.00</td>\n",
              "      <td>0.00</td>\n",
              "      <td>0.00</td>\n",
              "      <td>116.12</td>\n",
              "    </tr>\n",
              "    <tr>\n",
              "      <th>3</th>\n",
              "      <td>2018-03-23</td>\n",
              "      <td>112.16</td>\n",
              "      <td>13.66</td>\n",
              "      <td>202.83</td>\n",
              "      <td>112.16</td>\n",
              "      <td>112.16</td>\n",
              "      <td>-4.70</td>\n",
              "      <td>-4.70</td>\n",
              "      <td>-4.70</td>\n",
              "      <td>2.09</td>\n",
              "      <td>2.09</td>\n",
              "      <td>2.09</td>\n",
              "      <td>-6.80</td>\n",
              "      <td>-6.80</td>\n",
              "      <td>-6.80</td>\n",
              "      <td>0.00</td>\n",
              "      <td>0.00</td>\n",
              "      <td>0.00</td>\n",
              "      <td>107.46</td>\n",
              "    </tr>\n",
              "    <tr>\n",
              "      <th>4</th>\n",
              "      <td>2018-03-24</td>\n",
              "      <td>112.20</td>\n",
              "      <td>-7.52</td>\n",
              "      <td>190.98</td>\n",
              "      <td>112.20</td>\n",
              "      <td>112.20</td>\n",
              "      <td>-18.27</td>\n",
              "      <td>-18.27</td>\n",
              "      <td>-18.27</td>\n",
              "      <td>-11.31</td>\n",
              "      <td>-11.31</td>\n",
              "      <td>-11.31</td>\n",
              "      <td>-6.96</td>\n",
              "      <td>-6.96</td>\n",
              "      <td>-6.96</td>\n",
              "      <td>0.00</td>\n",
              "      <td>0.00</td>\n",
              "      <td>0.00</td>\n",
              "      <td>93.93</td>\n",
              "    </tr>\n",
              "  </tbody>\n",
              "</table>\n",
              "</div>\n",
              "      <button class=\"colab-df-convert\" onclick=\"convertToInteractive('df-28401d48-1169-4a96-8830-74b62f1fdf26')\"\n",
              "              title=\"Convert this dataframe to an interactive table.\"\n",
              "              style=\"display:none;\">\n",
              "        \n",
              "  <svg xmlns=\"http://www.w3.org/2000/svg\" height=\"24px\"viewBox=\"0 0 24 24\"\n",
              "       width=\"24px\">\n",
              "    <path d=\"M0 0h24v24H0V0z\" fill=\"none\"/>\n",
              "    <path d=\"M18.56 5.44l.94 2.06.94-2.06 2.06-.94-2.06-.94-.94-2.06-.94 2.06-2.06.94zm-11 1L8.5 8.5l.94-2.06 2.06-.94-2.06-.94L8.5 2.5l-.94 2.06-2.06.94zm10 10l.94 2.06.94-2.06 2.06-.94-2.06-.94-.94-2.06-.94 2.06-2.06.94z\"/><path d=\"M17.41 7.96l-1.37-1.37c-.4-.4-.92-.59-1.43-.59-.52 0-1.04.2-1.43.59L10.3 9.45l-7.72 7.72c-.78.78-.78 2.05 0 2.83L4 21.41c.39.39.9.59 1.41.59.51 0 1.02-.2 1.41-.59l7.78-7.78 2.81-2.81c.8-.78.8-2.07 0-2.86zM5.41 20L4 18.59l7.72-7.72 1.47 1.35L5.41 20z\"/>\n",
              "  </svg>\n",
              "      </button>\n",
              "      \n",
              "  <style>\n",
              "    .colab-df-container {\n",
              "      display:flex;\n",
              "      flex-wrap:wrap;\n",
              "      gap: 12px;\n",
              "    }\n",
              "\n",
              "    .colab-df-convert {\n",
              "      background-color: #E8F0FE;\n",
              "      border: none;\n",
              "      border-radius: 50%;\n",
              "      cursor: pointer;\n",
              "      display: none;\n",
              "      fill: #1967D2;\n",
              "      height: 32px;\n",
              "      padding: 0 0 0 0;\n",
              "      width: 32px;\n",
              "    }\n",
              "\n",
              "    .colab-df-convert:hover {\n",
              "      background-color: #E2EBFA;\n",
              "      box-shadow: 0px 1px 2px rgba(60, 64, 67, 0.3), 0px 1px 3px 1px rgba(60, 64, 67, 0.15);\n",
              "      fill: #174EA6;\n",
              "    }\n",
              "\n",
              "    [theme=dark] .colab-df-convert {\n",
              "      background-color: #3B4455;\n",
              "      fill: #D2E3FC;\n",
              "    }\n",
              "\n",
              "    [theme=dark] .colab-df-convert:hover {\n",
              "      background-color: #434B5C;\n",
              "      box-shadow: 0px 1px 3px 1px rgba(0, 0, 0, 0.15);\n",
              "      filter: drop-shadow(0px 1px 2px rgba(0, 0, 0, 0.3));\n",
              "      fill: #FFFFFF;\n",
              "    }\n",
              "  </style>\n",
              "\n",
              "      <script>\n",
              "        const buttonEl =\n",
              "          document.querySelector('#df-28401d48-1169-4a96-8830-74b62f1fdf26 button.colab-df-convert');\n",
              "        buttonEl.style.display =\n",
              "          google.colab.kernel.accessAllowed ? 'block' : 'none';\n",
              "\n",
              "        async function convertToInteractive(key) {\n",
              "          const element = document.querySelector('#df-28401d48-1169-4a96-8830-74b62f1fdf26');\n",
              "          const dataTable =\n",
              "            await google.colab.kernel.invokeFunction('convertToInteractive',\n",
              "                                                     [key], {});\n",
              "          if (!dataTable) return;\n",
              "\n",
              "          const docLinkHtml = 'Like what you see? Visit the ' +\n",
              "            '<a target=\"_blank\" href=https://colab.research.google.com/notebooks/data_table.ipynb>data table notebook</a>'\n",
              "            + ' to learn more about interactive tables.';\n",
              "          element.innerHTML = '';\n",
              "          dataTable['output_type'] = 'display_data';\n",
              "          await google.colab.output.renderOutput(dataTable, element);\n",
              "          const docLink = document.createElement('div');\n",
              "          docLink.innerHTML = docLinkHtml;\n",
              "          element.appendChild(docLink);\n",
              "        }\n",
              "      </script>\n",
              "    </div>\n",
              "  </div>\n",
              "  "
            ]
          },
          "metadata": {},
          "execution_count": 23
        }
      ]
    },
    {
      "cell_type": "markdown",
      "source": [
        "clips the forecasts so that no value is negative (electricity price can't have a negative price!)"
      ],
      "metadata": {
        "id": "eWWrYSF-6Kur"
      }
    },
    {
      "cell_type": "code",
      "source": [
        "forecast_univariate.loc[:,'yhat'] = forecast_univariate['yhat'].clip(lower=0)"
      ],
      "metadata": {
        "id": "s7Nn_93-52Il"
      },
      "execution_count": 24,
      "outputs": []
    },
    {
      "cell_type": "code",
      "source": [
        "forecast_univariate.loc[:,'yhat_lower'] = forecast_univariate.yhat_lower.clip(lower=0)"
      ],
      "metadata": {
        "id": "5LHM-wQZ52FC"
      },
      "execution_count": 25,
      "outputs": []
    },
    {
      "cell_type": "code",
      "source": [
        "forecast_univariate[['ds' , 'yhat' , 'yhat_lower' , 'yhat_upper' , 'trend' , 'trend_lower' , 'trend_upper']].head()"
      ],
      "metadata": {
        "colab": {
          "base_uri": "https://localhost:8080/",
          "height": 206
        },
        "id": "LEusjNE3Xdkj",
        "outputId": "6ed80e58-ed71-4e4d-9fd3-000a390eb917"
      },
      "execution_count": 26,
      "outputs": [
        {
          "output_type": "execute_result",
          "data": {
            "text/plain": [
              "          ds                 yhat           yhat_lower           yhat_upper  \\\n",
              "0 2018-03-20               105.61                10.29               201.21   \n",
              "1 2018-03-21               111.99                 8.54               213.55   \n",
              "2 2018-03-22               116.12                18.98               211.16   \n",
              "3 2018-03-23               107.46                13.66               202.83   \n",
              "4 2018-03-24                93.93                 0.00               190.98   \n",
              "\n",
              "                 trend          trend_lower          trend_upper  \n",
              "0               112.06               112.06               112.06  \n",
              "1               112.10               112.10               112.10  \n",
              "2               112.13               112.13               112.13  \n",
              "3               112.16               112.16               112.16  \n",
              "4               112.20               112.20               112.20  "
            ],
            "text/html": [
              "\n",
              "  <div id=\"df-f82e604c-f2be-44dc-9437-9568c1249e1e\">\n",
              "    <div class=\"colab-df-container\">\n",
              "      <div>\n",
              "<style scoped>\n",
              "    .dataframe tbody tr th:only-of-type {\n",
              "        vertical-align: middle;\n",
              "    }\n",
              "\n",
              "    .dataframe tbody tr th {\n",
              "        vertical-align: top;\n",
              "    }\n",
              "\n",
              "    .dataframe thead th {\n",
              "        text-align: right;\n",
              "    }\n",
              "</style>\n",
              "<table border=\"1\" class=\"dataframe\">\n",
              "  <thead>\n",
              "    <tr style=\"text-align: right;\">\n",
              "      <th></th>\n",
              "      <th>ds</th>\n",
              "      <th>yhat</th>\n",
              "      <th>yhat_lower</th>\n",
              "      <th>yhat_upper</th>\n",
              "      <th>trend</th>\n",
              "      <th>trend_lower</th>\n",
              "      <th>trend_upper</th>\n",
              "    </tr>\n",
              "  </thead>\n",
              "  <tbody>\n",
              "    <tr>\n",
              "      <th>0</th>\n",
              "      <td>2018-03-20</td>\n",
              "      <td>105.61</td>\n",
              "      <td>10.29</td>\n",
              "      <td>201.21</td>\n",
              "      <td>112.06</td>\n",
              "      <td>112.06</td>\n",
              "      <td>112.06</td>\n",
              "    </tr>\n",
              "    <tr>\n",
              "      <th>1</th>\n",
              "      <td>2018-03-21</td>\n",
              "      <td>111.99</td>\n",
              "      <td>8.54</td>\n",
              "      <td>213.55</td>\n",
              "      <td>112.10</td>\n",
              "      <td>112.10</td>\n",
              "      <td>112.10</td>\n",
              "    </tr>\n",
              "    <tr>\n",
              "      <th>2</th>\n",
              "      <td>2018-03-22</td>\n",
              "      <td>116.12</td>\n",
              "      <td>18.98</td>\n",
              "      <td>211.16</td>\n",
              "      <td>112.13</td>\n",
              "      <td>112.13</td>\n",
              "      <td>112.13</td>\n",
              "    </tr>\n",
              "    <tr>\n",
              "      <th>3</th>\n",
              "      <td>2018-03-23</td>\n",
              "      <td>107.46</td>\n",
              "      <td>13.66</td>\n",
              "      <td>202.83</td>\n",
              "      <td>112.16</td>\n",
              "      <td>112.16</td>\n",
              "      <td>112.16</td>\n",
              "    </tr>\n",
              "    <tr>\n",
              "      <th>4</th>\n",
              "      <td>2018-03-24</td>\n",
              "      <td>93.93</td>\n",
              "      <td>0.00</td>\n",
              "      <td>190.98</td>\n",
              "      <td>112.20</td>\n",
              "      <td>112.20</td>\n",
              "      <td>112.20</td>\n",
              "    </tr>\n",
              "  </tbody>\n",
              "</table>\n",
              "</div>\n",
              "      <button class=\"colab-df-convert\" onclick=\"convertToInteractive('df-f82e604c-f2be-44dc-9437-9568c1249e1e')\"\n",
              "              title=\"Convert this dataframe to an interactive table.\"\n",
              "              style=\"display:none;\">\n",
              "        \n",
              "  <svg xmlns=\"http://www.w3.org/2000/svg\" height=\"24px\"viewBox=\"0 0 24 24\"\n",
              "       width=\"24px\">\n",
              "    <path d=\"M0 0h24v24H0V0z\" fill=\"none\"/>\n",
              "    <path d=\"M18.56 5.44l.94 2.06.94-2.06 2.06-.94-2.06-.94-.94-2.06-.94 2.06-2.06.94zm-11 1L8.5 8.5l.94-2.06 2.06-.94-2.06-.94L8.5 2.5l-.94 2.06-2.06.94zm10 10l.94 2.06.94-2.06 2.06-.94-2.06-.94-.94-2.06-.94 2.06-2.06.94z\"/><path d=\"M17.41 7.96l-1.37-1.37c-.4-.4-.92-.59-1.43-.59-.52 0-1.04.2-1.43.59L10.3 9.45l-7.72 7.72c-.78.78-.78 2.05 0 2.83L4 21.41c.39.39.9.59 1.41.59.51 0 1.02-.2 1.41-.59l7.78-7.78 2.81-2.81c.8-.78.8-2.07 0-2.86zM5.41 20L4 18.59l7.72-7.72 1.47 1.35L5.41 20z\"/>\n",
              "  </svg>\n",
              "      </button>\n",
              "      \n",
              "  <style>\n",
              "    .colab-df-container {\n",
              "      display:flex;\n",
              "      flex-wrap:wrap;\n",
              "      gap: 12px;\n",
              "    }\n",
              "\n",
              "    .colab-df-convert {\n",
              "      background-color: #E8F0FE;\n",
              "      border: none;\n",
              "      border-radius: 50%;\n",
              "      cursor: pointer;\n",
              "      display: none;\n",
              "      fill: #1967D2;\n",
              "      height: 32px;\n",
              "      padding: 0 0 0 0;\n",
              "      width: 32px;\n",
              "    }\n",
              "\n",
              "    .colab-df-convert:hover {\n",
              "      background-color: #E2EBFA;\n",
              "      box-shadow: 0px 1px 2px rgba(60, 64, 67, 0.3), 0px 1px 3px 1px rgba(60, 64, 67, 0.15);\n",
              "      fill: #174EA6;\n",
              "    }\n",
              "\n",
              "    [theme=dark] .colab-df-convert {\n",
              "      background-color: #3B4455;\n",
              "      fill: #D2E3FC;\n",
              "    }\n",
              "\n",
              "    [theme=dark] .colab-df-convert:hover {\n",
              "      background-color: #434B5C;\n",
              "      box-shadow: 0px 1px 3px 1px rgba(0, 0, 0, 0.15);\n",
              "      filter: drop-shadow(0px 1px 2px rgba(0, 0, 0, 0.3));\n",
              "      fill: #FFFFFF;\n",
              "    }\n",
              "  </style>\n",
              "\n",
              "      <script>\n",
              "        const buttonEl =\n",
              "          document.querySelector('#df-f82e604c-f2be-44dc-9437-9568c1249e1e button.colab-df-convert');\n",
              "        buttonEl.style.display =\n",
              "          google.colab.kernel.accessAllowed ? 'block' : 'none';\n",
              "\n",
              "        async function convertToInteractive(key) {\n",
              "          const element = document.querySelector('#df-f82e604c-f2be-44dc-9437-9568c1249e1e');\n",
              "          const dataTable =\n",
              "            await google.colab.kernel.invokeFunction('convertToInteractive',\n",
              "                                                     [key], {});\n",
              "          if (!dataTable) return;\n",
              "\n",
              "          const docLinkHtml = 'Like what you see? Visit the ' +\n",
              "            '<a target=\"_blank\" href=https://colab.research.google.com/notebooks/data_table.ipynb>data table notebook</a>'\n",
              "            + ' to learn more about interactive tables.';\n",
              "          element.innerHTML = '';\n",
              "          dataTable['output_type'] = 'display_data';\n",
              "          await google.colab.output.renderOutput(dataTable, element);\n",
              "          const docLink = document.createElement('div');\n",
              "          docLink.innerHTML = docLinkHtml;\n",
              "          element.appendChild(docLink);\n",
              "        }\n",
              "      </script>\n",
              "    </div>\n",
              "  </div>\n",
              "  "
            ]
          },
          "metadata": {},
          "execution_count": 26
        }
      ]
    },
    {
      "cell_type": "code",
      "source": [
        "y_true = test['y'].values\n",
        "y_pred = forecast_univariate['yhat'].values"
      ],
      "metadata": {
        "id": "3uAzABYJZ_0C"
      },
      "execution_count": 27,
      "outputs": []
    },
    {
      "cell_type": "code",
      "source": [
        "#Calculate the mean absolute error\n",
        "\n",
        "mae = mean_absolute_error(y_true, y_pred)\n",
        "print('MAE: %.3f' % mae)"
      ],
      "metadata": {
        "colab": {
          "base_uri": "https://localhost:8080/"
        },
        "id": "rmuGuQVAaNcY",
        "outputId": "6985524a-f42b-4f69-94d9-2ba10c788239"
      },
      "execution_count": 28,
      "outputs": [
        {
          "output_type": "stream",
          "name": "stdout",
          "text": [
            "MAE: 72.656\n"
          ]
        }
      ]
    },
    {
      "cell_type": "code",
      "source": [
        "#Calculate the mean absolute percentage error\n",
        "\n",
        "mape = mean_absolute_percentage_error(y_true, y_pred) * 100\n",
        "print('MAPE: %.2f' % mape)"
      ],
      "metadata": {
        "colab": {
          "base_uri": "https://localhost:8080/"
        },
        "id": "bEHqMJPJconm",
        "outputId": "05173e42-8728-458e-e788-e515be6e38f7"
      },
      "execution_count": 29,
      "outputs": [
        {
          "output_type": "stream",
          "name": "stdout",
          "text": [
            "MAPE: 548.24\n"
          ]
        }
      ]
    },
    {
      "cell_type": "code",
      "source": [
        "#Calculate the mean squared error\n",
        "\n",
        "mse = mean_squared_error(y_true, y_pred)\n",
        "print('MSE: %.3f' % mse)"
      ],
      "metadata": {
        "colab": {
          "base_uri": "https://localhost:8080/"
        },
        "id": "7zQGMZUixsyh",
        "outputId": "8d9f3034-02a3-48ae-d50b-ff6f99d2d7f7"
      },
      "execution_count": 30,
      "outputs": [
        {
          "output_type": "stream",
          "name": "stdout",
          "text": [
            "MSE: 17947.825\n"
          ]
        }
      ]
    },
    {
      "cell_type": "code",
      "source": [
        "#Calculate the Root mean squared error\n",
        "import math\n",
        "\n",
        "rmse = math.sqrt(mse)\n",
        "print('RMSE: %.2f' % rmse)"
      ],
      "metadata": {
        "colab": {
          "base_uri": "https://localhost:8080/"
        },
        "id": "F8hv1jUKyLLF",
        "outputId": "db338a37-7002-43f9-ff8f-0809fa521580"
      },
      "execution_count": 31,
      "outputs": [
        {
          "output_type": "stream",
          "name": "stdout",
          "text": [
            "RMSE: 133.97\n"
          ]
        }
      ]
    },
    {
      "cell_type": "code",
      "source": [
        "print(\"The MAE for the Univariate model :\", mae)\n",
        "print(\"The MAPE for the Univariate model :\", mape)\n",
        "print(\"The RMSE for the Univariate model :\", rmse)"
      ],
      "metadata": {
        "colab": {
          "base_uri": "https://localhost:8080/"
        },
        "id": "UOK-DgULdCpR",
        "outputId": "836181e6-82bc-42ed-e636-b11d48240910"
      },
      "execution_count": 32,
      "outputs": [
        {
          "output_type": "stream",
          "name": "stdout",
          "text": [
            "The MAE for the Univariate model : 72.65632034332356\n",
            "The MAPE for the Univariate model : 548.2447535166735\n",
            "The RMSE for the Univariate model : 133.96949234497666\n"
          ]
        }
      ]
    },
    {
      "cell_type": "code",
      "source": [
        "# plot expected vs actual\n",
        "plt.plot(y_true, label='Actual')\n",
        "plt.plot(y_pred, label='Predicted')\n",
        "plt.legend()\n",
        "plt.show()"
      ],
      "metadata": {
        "colab": {
          "base_uri": "https://localhost:8080/",
          "height": 268
        },
        "id": "3KLkM6GeasJ_",
        "outputId": "ffbe3911-73bb-4a97-c7ff-975f7575baeb"
      },
      "execution_count": 33,
      "outputs": [
        {
          "output_type": "display_data",
          "data": {
            "text/plain": [
              "<Figure size 432x288 with 1 Axes>"
            ],
            "image/png": "[encoded data removed]"
          },
          "metadata": {
            "needs_background": "light"
          }
        }
      ]
    },
    {
      "cell_type": "markdown",
      "source": [
        "## Multivariate Time series model."
      ],
      "metadata": {
        "id": "aXxuNqVrbUIy"
      }
    },
    {
      "cell_type": "code",
      "source": [
        "train.columns"
      ],
      "metadata": {
        "colab": {
          "base_uri": "https://localhost:8080/"
        },
        "id": "5Z5G52mBgr-q",
        "outputId": "50385d51-a66e-49f9-a7b1-cbe959467e7d"
      },
      "execution_count": 34,
      "outputs": [
        {
          "output_type": "execute_result",
          "data": {
            "text/plain": [
              "Index(['ds', 'tmax', 'sysload', 'gasprice', 'y'], dtype='object')"
            ]
          },
          "metadata": {},
          "execution_count": 34
        }
      ]
    },
    {
      "cell_type": "code",
      "source": [
        "#model building df_daily\n",
        "\n",
        "model_multivariate = Prophet()\n",
        "model_multivariate.add_regressor('tmax')\n",
        "model_multivariate.add_regressor('sysload')\n",
        "model_multivariate.add_regressor('gasprice')\n",
        "model_multivariate.fit(train)"
      ],
      "metadata": {
        "colab": {
          "base_uri": "https://localhost:8080/"
        },
        "id": "pVA7sSoSbRva",
        "outputId": "da650fcb-3518-4b7e-fb2c-34af62be86b4"
      },
      "execution_count": 35,
      "outputs": [
        {
          "output_type": "stream",
          "name": "stderr",
          "text": [
            "INFO:prophet:Disabling daily seasonality. Run prophet with daily_seasonality=True to override this.\n",
            "DEBUG:cmdstanpy:input tempfile: /tmp/tmpr6qgeliq/1kffi1uu.json\n",
            "DEBUG:cmdstanpy:input tempfile: /tmp/tmpr6qgeliq/b9yagj67.json\n",
            "DEBUG:cmdstanpy:idx 0\n",
            "DEBUG:cmdstanpy:running CmdStan, num_threads: None\n",
            "DEBUG:cmdstanpy:CmdStan args: ['/usr/local/lib/python3.8/dist-packages/prophet/stan_model/prophet_model.bin', 'random', 'seed=53269', 'data', 'file=/tmp/tmpr6qgeliq/1kffi1uu.json', 'init=/tmp/tmpr6qgeliq/b9yagj67.json', 'output', 'file=/tmp/tmpr6qgeliq/prophet_modelmr58xbmh/prophet_model-20230122145641.csv', 'method=optimize', 'algorithm=lbfgs', 'iter=10000']\n",
            "14:56:41 - cmdstanpy - INFO - Chain [1] start processing\n",
            "INFO:cmdstanpy:Chain [1] start processing\n",
            "14:56:42 - cmdstanpy - INFO - Chain [1] done processing\n",
            "INFO:cmdstanpy:Chain [1] done processing\n"
          ]
        },
        {
          "output_type": "execute_result",
          "data": {
            "text/plain": [
              "<prophet.forecaster.Prophet at 0x7f0e02fe5790>"
            ]
          },
          "metadata": {},
          "execution_count": 35
        }
      ]
    },
    {
      "cell_type": "code",
      "source": [
        "#make test data as the future into a dataframe\n",
        "\n",
        "future_multivariate = pd.DataFrame(test[['ds','tmax','sysload','gasprice']])"
      ],
      "metadata": {
        "id": "_ZA22Oj1hKU9"
      },
      "execution_count": 36,
      "outputs": []
    },
    {
      "cell_type": "code",
      "source": [
        "# Create the time range for the forecast\n",
        "# future_univariate = model_univariate.make_future_dataframe(test['ds'])\n",
        "\n",
        "# Make prediction\n",
        "forecast_multivariate = model_multivariate.predict(future_multivariate)\n",
        "\n",
        "# Visualize the forecast\n",
        "model_multivariate.plot(forecast_multivariate);"
      ],
      "metadata": {
        "colab": {
          "base_uri": "https://localhost:8080/",
          "height": 441
        },
        "id": "CgpvXMsphML5",
        "outputId": "912a4d68-128a-4e7f-feba-e948390ec37b"
      },
      "execution_count": 37,
      "outputs": [
        {
          "output_type": "display_data",
          "data": {
            "text/plain": [
              "<Figure size 720x432 with 1 Axes>"
            ],
            "image/png": "[encoded data removed]"
          },
          "metadata": {}
        }
      ]
    },
    {
      "cell_type": "code",
      "source": [
        "# Visualize the forecast components\n",
        "model_multivariate.plot_components(forecast_multivariate);"
      ],
      "metadata": {
        "colab": {
          "base_uri": "https://localhost:8080/",
          "height": 873
        },
        "id": "boGT-MxUhwX9",
        "outputId": "a3ed2333-e363-4ca1-abb2-90591a42bf24"
      },
      "execution_count": 38,
      "outputs": [
        {
          "output_type": "display_data",
          "data": {
            "text/plain": [
              "<Figure size 648x864 with 4 Axes>"
            ],
            "image/png": "[encoded data removed]"
          },
          "metadata": {}
        }
      ]
    },
    {
      "cell_type": "code",
      "source": [
        "forecast_multivariate.head()"
      ],
      "metadata": {
        "colab": {
          "base_uri": "https://localhost:8080/",
          "height": 357
        },
        "id": "LuZ38ME-iAou",
        "outputId": "dbedeaaf-67a3-4700-c529-adcd30424605"
      },
      "execution_count": 39,
      "outputs": [
        {
          "output_type": "execute_result",
          "data": {
            "text/plain": [
              "          ds                trend           yhat_lower           yhat_upper  \\\n",
              "0 2018-03-20                78.14                -4.73               175.37   \n",
              "1 2018-03-21                78.17                -5.26               177.79   \n",
              "2 2018-03-22                78.20                23.02               214.17   \n",
              "3 2018-03-23                78.23                13.91               210.20   \n",
              "4 2018-03-24                78.26               -29.55               150.56   \n",
              "\n",
              "           trend_lower          trend_upper       additive_terms  \\\n",
              "0                78.14                78.14                 4.91   \n",
              "1                78.17                78.17                 4.52   \n",
              "2                78.20                78.20                42.87   \n",
              "3                78.23                78.23                29.68   \n",
              "4                78.26                78.26               -18.15   \n",
              "\n",
              "   additive_terms_lower  additive_terms_upper  extra_regressors_additive  \\\n",
              "0                  4.91                  4.91                      10.07   \n",
              "1                  4.52                  4.52                       4.00   \n",
              "2                 42.87                 42.87                      37.84   \n",
              "3                 29.68                 29.68                      32.53   \n",
              "4                -18.15                -18.15                     -12.14   \n",
              "\n",
              "   extra_regressors_additive_lower  extra_regressors_additive_upper  \\\n",
              "0                            10.07                            10.07   \n",
              "1                             4.00                             4.00   \n",
              "2                            37.84                            37.84   \n",
              "3                            32.53                            32.53   \n",
              "4                           -12.14                           -12.14   \n",
              "\n",
              "              gasprice       gasprice_lower       gasprice_upper  \\\n",
              "0                45.78                45.78                45.78   \n",
              "1                46.79                46.79                46.79   \n",
              "2                46.79                46.79                46.79   \n",
              "3                43.98                43.98                43.98   \n",
              "4                32.74                32.74                32.74   \n",
              "\n",
              "               sysload        sysload_lower        sysload_upper  \\\n",
              "0               -35.72               -35.72               -35.72   \n",
              "1               -42.81               -42.81               -42.81   \n",
              "2                -8.97                -8.97                -8.97   \n",
              "3               -11.47               -11.47               -11.47   \n",
              "4               -44.89               -44.89               -44.89   \n",
              "\n",
              "                  tmax           tmax_lower           tmax_upper  \\\n",
              "0                 0.01                 0.01                 0.01   \n",
              "1                 0.01                 0.01                 0.01   \n",
              "2                 0.01                 0.01                 0.01   \n",
              "3                 0.01                 0.01                 0.01   \n",
              "4                 0.01                 0.01                 0.01   \n",
              "\n",
              "                weekly         weekly_lower         weekly_upper  \\\n",
              "0                -3.52                -3.52                -3.52   \n",
              "1                 1.77                 1.77                 1.77   \n",
              "2                 6.06                 6.06                 6.06   \n",
              "3                -1.85                -1.85                -1.85   \n",
              "4                -4.89                -4.89                -4.89   \n",
              "\n",
              "                yearly         yearly_lower         yearly_upper  \\\n",
              "0                -1.63                -1.63                -1.63   \n",
              "1                -1.25                -1.25                -1.25   \n",
              "2                -1.03                -1.03                -1.03   \n",
              "3                -0.99                -0.99                -0.99   \n",
              "4                -1.12                -1.12                -1.12   \n",
              "\n",
              "   multiplicative_terms  multiplicative_terms_lower  \\\n",
              "0                  0.00                        0.00   \n",
              "1                  0.00                        0.00   \n",
              "2                  0.00                        0.00   \n",
              "3                  0.00                        0.00   \n",
              "4                  0.00                        0.00   \n",
              "\n",
              "   multiplicative_terms_upper                 yhat  \n",
              "0                        0.00                83.05  \n",
              "1                        0.00                82.69  \n",
              "2                        0.00               121.07  \n",
              "3                        0.00               107.91  \n",
              "4                        0.00                60.11  "
            ],
            "text/html": [
              "\n",
              "  <div id=\"df-e3fd3f8a-c01b-4b8c-a2d6-2673d1fd4692\">\n",
              "    <div class=\"colab-df-container\">\n",
              "      <div>\n",
              "<style scoped>\n",
              "    .dataframe tbody tr th:only-of-type {\n",
              "        vertical-align: middle;\n",
              "    }\n",
              "\n",
              "    .dataframe tbody tr th {\n",
              "        vertical-align: top;\n",
              "    }\n",
              "\n",
              "    .dataframe thead th {\n",
              "        text-align: right;\n",
              "    }\n",
              "</style>\n",
              "<table border=\"1\" class=\"dataframe\">\n",
              "  <thead>\n",
              "    <tr style=\"text-align: right;\">\n",
              "      <th></th>\n",
              "      <th>ds</th>\n",
              "      <th>trend</th>\n",
              "      <th>yhat_lower</th>\n",
              "      <th>yhat_upper</th>\n",
              "      <th>trend_lower</th>\n",
              "      <th>trend_upper</th>\n",
              "      <th>additive_terms</th>\n",
              "      <th>additive_terms_lower</th>\n",
              "      <th>additive_terms_upper</th>\n",
              "      <th>extra_regressors_additive</th>\n",
              "      <th>extra_regressors_additive_lower</th>\n",
              "      <th>extra_regressors_additive_upper</th>\n",
              "      <th>gasprice</th>\n",
              "      <th>gasprice_lower</th>\n",
              "      <th>gasprice_upper</th>\n",
              "      <th>sysload</th>\n",
              "      <th>sysload_lower</th>\n",
              "      <th>sysload_upper</th>\n",
              "      <th>tmax</th>\n",
              "      <th>tmax_lower</th>\n",
              "      <th>tmax_upper</th>\n",
              "      <th>weekly</th>\n",
              "      <th>weekly_lower</th>\n",
              "      <th>weekly_upper</th>\n",
              "      <th>yearly</th>\n",
              "      <th>yearly_lower</th>\n",
              "      <th>yearly_upper</th>\n",
              "      <th>multiplicative_terms</th>\n",
              "      <th>multiplicative_terms_lower</th>\n",
              "      <th>multiplicative_terms_upper</th>\n",
              "      <th>yhat</th>\n",
              "    </tr>\n",
              "  </thead>\n",
              "  <tbody>\n",
              "    <tr>\n",
              "      <th>0</th>\n",
              "      <td>2018-03-20</td>\n",
              "      <td>78.14</td>\n",
              "      <td>-4.73</td>\n",
              "      <td>175.37</td>\n",
              "      <td>78.14</td>\n",
              "      <td>78.14</td>\n",
              "      <td>4.91</td>\n",
              "      <td>4.91</td>\n",
              "      <td>4.91</td>\n",
              "      <td>10.07</td>\n",
              "      <td>10.07</td>\n",
              "      <td>10.07</td>\n",
              "      <td>45.78</td>\n",
              "      <td>45.78</td>\n",
              "      <td>45.78</td>\n",
              "      <td>-35.72</td>\n",
              "      <td>-35.72</td>\n",
              "      <td>-35.72</td>\n",
              "      <td>0.01</td>\n",
              "      <td>0.01</td>\n",
              "      <td>0.01</td>\n",
              "      <td>-3.52</td>\n",
              "      <td>-3.52</td>\n",
              "      <td>-3.52</td>\n",
              "      <td>-1.63</td>\n",
              "      <td>-1.63</td>\n",
              "      <td>-1.63</td>\n",
              "      <td>0.00</td>\n",
              "      <td>0.00</td>\n",
              "      <td>0.00</td>\n",
              "      <td>83.05</td>\n",
              "    </tr>\n",
              "    <tr>\n",
              "      <th>1</th>\n",
              "      <td>2018-03-21</td>\n",
              "      <td>78.17</td>\n",
              "      <td>-5.26</td>\n",
              "      <td>177.79</td>\n",
              "      <td>78.17</td>\n",
              "      <td>78.17</td>\n",
              "      <td>4.52</td>\n",
              "      <td>4.52</td>\n",
              "      <td>4.52</td>\n",
              "      <td>4.00</td>\n",
              "      <td>4.00</td>\n",
              "      <td>4.00</td>\n",
              "      <td>46.79</td>\n",
              "      <td>46.79</td>\n",
              "      <td>46.79</td>\n",
              "      <td>-42.81</td>\n",
              "      <td>-42.81</td>\n",
              "      <td>-42.81</td>\n",
              "      <td>0.01</td>\n",
              "      <td>0.01</td>\n",
              "      <td>0.01</td>\n",
              "      <td>1.77</td>\n",
              "      <td>1.77</td>\n",
              "      <td>1.77</td>\n",
              "      <td>-1.25</td>\n",
              "      <td>-1.25</td>\n",
              "      <td>-1.25</td>\n",
              "      <td>0.00</td>\n",
              "      <td>0.00</td>\n",
              "      <td>0.00</td>\n",
              "      <td>82.69</td>\n",
              "    </tr>\n",
              "    <tr>\n",
              "      <th>2</th>\n",
              "      <td>2018-03-22</td>\n",
              "      <td>78.20</td>\n",
              "      <td>23.02</td>\n",
              "      <td>214.17</td>\n",
              "      <td>78.20</td>\n",
              "      <td>78.20</td>\n",
              "      <td>42.87</td>\n",
              "      <td>42.87</td>\n",
              "      <td>42.87</td>\n",
              "      <td>37.84</td>\n",
              "      <td>37.84</td>\n",
              "      <td>37.84</td>\n",
              "      <td>46.79</td>\n",
              "      <td>46.79</td>\n",
              "      <td>46.79</td>\n",
              "      <td>-8.97</td>\n",
              "      <td>-8.97</td>\n",
              "      <td>-8.97</td>\n",
              "      <td>0.01</td>\n",
              "      <td>0.01</td>\n",
              "      <td>0.01</td>\n",
              "      <td>6.06</td>\n",
              "      <td>6.06</td>\n",
              "      <td>6.06</td>\n",
              "      <td>-1.03</td>\n",
              "      <td>-1.03</td>\n",
              "      <td>-1.03</td>\n",
              "      <td>0.00</td>\n",
              "      <td>0.00</td>\n",
              "      <td>0.00</td>\n",
              "      <td>121.07</td>\n",
              "    </tr>\n",
              "    <tr>\n",
              "      <th>3</th>\n",
              "      <td>2018-03-23</td>\n",
              "      <td>78.23</td>\n",
              "      <td>13.91</td>\n",
              "      <td>210.20</td>\n",
              "      <td>78.23</td>\n",
              "      <td>78.23</td>\n",
              "      <td>29.68</td>\n",
              "      <td>29.68</td>\n",
              "      <td>29.68</td>\n",
              "      <td>32.53</td>\n",
              "      <td>32.53</td>\n",
              "      <td>32.53</td>\n",
              "      <td>43.98</td>\n",
              "      <td>43.98</td>\n",
              "      <td>43.98</td>\n",
              "      <td>-11.47</td>\n",
              "      <td>-11.47</td>\n",
              "      <td>-11.47</td>\n",
              "      <td>0.01</td>\n",
              "      <td>0.01</td>\n",
              "      <td>0.01</td>\n",
              "      <td>-1.85</td>\n",
              "      <td>-1.85</td>\n",
              "      <td>-1.85</td>\n",
              "      <td>-0.99</td>\n",
              "      <td>-0.99</td>\n",
              "      <td>-0.99</td>\n",
              "      <td>0.00</td>\n",
              "      <td>0.00</td>\n",
              "      <td>0.00</td>\n",
              "      <td>107.91</td>\n",
              "    </tr>\n",
              "    <tr>\n",
              "      <th>4</th>\n",
              "      <td>2018-03-24</td>\n",
              "      <td>78.26</td>\n",
              "      <td>-29.55</td>\n",
              "      <td>150.56</td>\n",
              "      <td>78.26</td>\n",
              "      <td>78.26</td>\n",
              "      <td>-18.15</td>\n",
              "      <td>-18.15</td>\n",
              "      <td>-18.15</td>\n",
              "      <td>-12.14</td>\n",
              "      <td>-12.14</td>\n",
              "      <td>-12.14</td>\n",
              "      <td>32.74</td>\n",
              "      <td>32.74</td>\n",
              "      <td>32.74</td>\n",
              "      <td>-44.89</td>\n",
              "      <td>-44.89</td>\n",
              "      <td>-44.89</td>\n",
              "      <td>0.01</td>\n",
              "      <td>0.01</td>\n",
              "      <td>0.01</td>\n",
              "      <td>-4.89</td>\n",
              "      <td>-4.89</td>\n",
              "      <td>-4.89</td>\n",
              "      <td>-1.12</td>\n",
              "      <td>-1.12</td>\n",
              "      <td>-1.12</td>\n",
              "      <td>0.00</td>\n",
              "      <td>0.00</td>\n",
              "      <td>0.00</td>\n",
              "      <td>60.11</td>\n",
              "    </tr>\n",
              "  </tbody>\n",
              "</table>\n",
              "</div>\n",
              "      <button class=\"colab-df-convert\" onclick=\"convertToInteractive('df-e3fd3f8a-c01b-4b8c-a2d6-2673d1fd4692')\"\n",
              "              title=\"Convert this dataframe to an interactive table.\"\n",
              "              style=\"display:none;\">\n",
              "        \n",
              "  <svg xmlns=\"http://www.w3.org/2000/svg\" height=\"24px\"viewBox=\"0 0 24 24\"\n",
              "       width=\"24px\">\n",
              "    <path d=\"M0 0h24v24H0V0z\" fill=\"none\"/>\n",
              "    <path d=\"M18.56 5.44l.94 2.06.94-2.06 2.06-.94-2.06-.94-.94-2.06-.94 2.06-2.06.94zm-11 1L8.5 8.5l.94-2.06 2.06-.94-2.06-.94L8.5 2.5l-.94 2.06-2.06.94zm10 10l.94 2.06.94-2.06 2.06-.94-2.06-.94-.94-2.06-.94 2.06-2.06.94z\"/><path d=\"M17.41 7.96l-1.37-1.37c-.4-.4-.92-.59-1.43-.59-.52 0-1.04.2-1.43.59L10.3 9.45l-7.72 7.72c-.78.78-.78 2.05 0 2.83L4 21.41c.39.39.9.59 1.41.59.51 0 1.02-.2 1.41-.59l7.78-7.78 2.81-2.81c.8-.78.8-2.07 0-2.86zM5.41 20L4 18.59l7.72-7.72 1.47 1.35L5.41 20z\"/>\n",
              "  </svg>\n",
              "      </button>\n",
              "      \n",
              "  <style>\n",
              "    .colab-df-container {\n",
              "      display:flex;\n",
              "      flex-wrap:wrap;\n",
              "      gap: 12px;\n",
              "    }\n",
              "\n",
              "    .colab-df-convert {\n",
              "      background-color: #E8F0FE;\n",
              "      border: none;\n",
              "      border-radius: 50%;\n",
              "      cursor: pointer;\n",
              "      display: none;\n",
              "      fill: #1967D2;\n",
              "      height: 32px;\n",
              "      padding: 0 0 0 0;\n",
              "      width: 32px;\n",
              "    }\n",
              "\n",
              "    .colab-df-convert:hover {\n",
              "      background-color: #E2EBFA;\n",
              "      box-shadow: 0px 1px 2px rgba(60, 64, 67, 0.3), 0px 1px 3px 1px rgba(60, 64, 67, 0.15);\n",
              "      fill: #174EA6;\n",
              "    }\n",
              "\n",
              "    [theme=dark] .colab-df-convert {\n",
              "      background-color: #3B4455;\n",
              "      fill: #D2E3FC;\n",
              "    }\n",
              "\n",
              "    [theme=dark] .colab-df-convert:hover {\n",
              "      background-color: #434B5C;\n",
              "      box-shadow: 0px 1px 3px 1px rgba(0, 0, 0, 0.15);\n",
              "      filter: drop-shadow(0px 1px 2px rgba(0, 0, 0, 0.3));\n",
              "      fill: #FFFFFF;\n",
              "    }\n",
              "  </style>\n",
              "\n",
              "      <script>\n",
              "        const buttonEl =\n",
              "          document.querySelector('#df-e3fd3f8a-c01b-4b8c-a2d6-2673d1fd4692 button.colab-df-convert');\n",
              "        buttonEl.style.display =\n",
              "          google.colab.kernel.accessAllowed ? 'block' : 'none';\n",
              "\n",
              "        async function convertToInteractive(key) {\n",
              "          const element = document.querySelector('#df-e3fd3f8a-c01b-4b8c-a2d6-2673d1fd4692');\n",
              "          const dataTable =\n",
              "            await google.colab.kernel.invokeFunction('convertToInteractive',\n",
              "                                                     [key], {});\n",
              "          if (!dataTable) return;\n",
              "\n",
              "          const docLinkHtml = 'Like what you see? Visit the ' +\n",
              "            '<a target=\"_blank\" href=https://colab.research.google.com/notebooks/data_table.ipynb>data table notebook</a>'\n",
              "            + ' to learn more about interactive tables.';\n",
              "          element.innerHTML = '';\n",
              "          dataTable['output_type'] = 'display_data';\n",
              "          await google.colab.output.renderOutput(dataTable, element);\n",
              "          const docLink = document.createElement('div');\n",
              "          docLink.innerHTML = docLinkHtml;\n",
              "          element.appendChild(docLink);\n",
              "        }\n",
              "      </script>\n",
              "    </div>\n",
              "  </div>\n",
              "  "
            ]
          },
          "metadata": {},
          "execution_count": 39
        }
      ]
    },
    {
      "cell_type": "markdown",
      "source": [
        "clips the forecasts so that no value is negative (electricity price can't have a negative price!)"
      ],
      "metadata": {
        "id": "k3m2V63VisvV"
      }
    },
    {
      "cell_type": "code",
      "source": [
        "forecast_multivariate.loc[:,'yhat'] = forecast_multivariate['yhat'].clip(lower=0)"
      ],
      "metadata": {
        "id": "oX5K5Z2lirlw"
      },
      "execution_count": 40,
      "outputs": []
    },
    {
      "cell_type": "code",
      "source": [
        "forecast_multivariate.loc[:,'yhat_lower'] = forecast_multivariate.yhat_lower.clip(lower=0)"
      ],
      "metadata": {
        "id": "9zV6xvA7i3ri"
      },
      "execution_count": 41,
      "outputs": []
    },
    {
      "cell_type": "code",
      "source": [
        "forecast_multivariate[['ds' , 'yhat' , 'yhat_lower' , 'yhat_upper' , 'trend' , 'trend_lower' , 'trend_upper']].head()"
      ],
      "metadata": {
        "colab": {
          "base_uri": "https://localhost:8080/",
          "height": 206
        },
        "id": "BeOay0gwiJcK",
        "outputId": "7f98f347-aad5-43a5-b628-ca81c652f6be"
      },
      "execution_count": 42,
      "outputs": [
        {
          "output_type": "execute_result",
          "data": {
            "text/plain": [
              "          ds                 yhat           yhat_lower           yhat_upper  \\\n",
              "0 2018-03-20                83.05                 0.00               175.37   \n",
              "1 2018-03-21                82.69                 0.00               177.79   \n",
              "2 2018-03-22               121.07                23.02               214.17   \n",
              "3 2018-03-23               107.91                13.91               210.20   \n",
              "4 2018-03-24                60.11                 0.00               150.56   \n",
              "\n",
              "                 trend          trend_lower          trend_upper  \n",
              "0                78.14                78.14                78.14  \n",
              "1                78.17                78.17                78.17  \n",
              "2                78.20                78.20                78.20  \n",
              "3                78.23                78.23                78.23  \n",
              "4                78.26                78.26                78.26  "
            ],
            "text/html": [
              "\n",
              "  <div id=\"df-44c868d7-f00d-495f-bc84-8964da6acbf9\">\n",
              "    <div class=\"colab-df-container\">\n",
              "      <div>\n",
              "<style scoped>\n",
              "    .dataframe tbody tr th:only-of-type {\n",
              "        vertical-align: middle;\n",
              "    }\n",
              "\n",
              "    .dataframe tbody tr th {\n",
              "        vertical-align: top;\n",
              "    }\n",
              "\n",
              "    .dataframe thead th {\n",
              "        text-align: right;\n",
              "    }\n",
              "</style>\n",
              "<table border=\"1\" class=\"dataframe\">\n",
              "  <thead>\n",
              "    <tr style=\"text-align: right;\">\n",
              "      <th></th>\n",
              "      <th>ds</th>\n",
              "      <th>yhat</th>\n",
              "      <th>yhat_lower</th>\n",
              "      <th>yhat_upper</th>\n",
              "      <th>trend</th>\n",
              "      <th>trend_lower</th>\n",
              "      <th>trend_upper</th>\n",
              "    </tr>\n",
              "  </thead>\n",
              "  <tbody>\n",
              "    <tr>\n",
              "      <th>0</th>\n",
              "      <td>2018-03-20</td>\n",
              "      <td>83.05</td>\n",
              "      <td>0.00</td>\n",
              "      <td>175.37</td>\n",
              "      <td>78.14</td>\n",
              "      <td>78.14</td>\n",
              "      <td>78.14</td>\n",
              "    </tr>\n",
              "    <tr>\n",
              "      <th>1</th>\n",
              "      <td>2018-03-21</td>\n",
              "      <td>82.69</td>\n",
              "      <td>0.00</td>\n",
              "      <td>177.79</td>\n",
              "      <td>78.17</td>\n",
              "      <td>78.17</td>\n",
              "      <td>78.17</td>\n",
              "    </tr>\n",
              "    <tr>\n",
              "      <th>2</th>\n",
              "      <td>2018-03-22</td>\n",
              "      <td>121.07</td>\n",
              "      <td>23.02</td>\n",
              "      <td>214.17</td>\n",
              "      <td>78.20</td>\n",
              "      <td>78.20</td>\n",
              "      <td>78.20</td>\n",
              "    </tr>\n",
              "    <tr>\n",
              "      <th>3</th>\n",
              "      <td>2018-03-23</td>\n",
              "      <td>107.91</td>\n",
              "      <td>13.91</td>\n",
              "      <td>210.20</td>\n",
              "      <td>78.23</td>\n",
              "      <td>78.23</td>\n",
              "      <td>78.23</td>\n",
              "    </tr>\n",
              "    <tr>\n",
              "      <th>4</th>\n",
              "      <td>2018-03-24</td>\n",
              "      <td>60.11</td>\n",
              "      <td>0.00</td>\n",
              "      <td>150.56</td>\n",
              "      <td>78.26</td>\n",
              "      <td>78.26</td>\n",
              "      <td>78.26</td>\n",
              "    </tr>\n",
              "  </tbody>\n",
              "</table>\n",
              "</div>\n",
              "      <button class=\"colab-df-convert\" onclick=\"convertToInteractive('df-44c868d7-f00d-495f-bc84-8964da6acbf9')\"\n",
              "              title=\"Convert this dataframe to an interactive table.\"\n",
              "              style=\"display:none;\">\n",
              "        \n",
              "  <svg xmlns=\"http://www.w3.org/2000/svg\" height=\"24px\"viewBox=\"0 0 24 24\"\n",
              "       width=\"24px\">\n",
              "    <path d=\"M0 0h24v24H0V0z\" fill=\"none\"/>\n",
              "    <path d=\"M18.56 5.44l.94 2.06.94-2.06 2.06-.94-2.06-.94-.94-2.06-.94 2.06-2.06.94zm-11 1L8.5 8.5l.94-2.06 2.06-.94-2.06-.94L8.5 2.5l-.94 2.06-2.06.94zm10 10l.94 2.06.94-2.06 2.06-.94-2.06-.94-.94-2.06-.94 2.06-2.06.94z\"/><path d=\"M17.41 7.96l-1.37-1.37c-.4-.4-.92-.59-1.43-.59-.52 0-1.04.2-1.43.59L10.3 9.45l-7.72 7.72c-.78.78-.78 2.05 0 2.83L4 21.41c.39.39.9.59 1.41.59.51 0 1.02-.2 1.41-.59l7.78-7.78 2.81-2.81c.8-.78.8-2.07 0-2.86zM5.41 20L4 18.59l7.72-7.72 1.47 1.35L5.41 20z\"/>\n",
              "  </svg>\n",
              "      </button>\n",
              "      \n",
              "  <style>\n",
              "    .colab-df-container {\n",
              "      display:flex;\n",
              "      flex-wrap:wrap;\n",
              "      gap: 12px;\n",
              "    }\n",
              "\n",
              "    .colab-df-convert {\n",
              "      background-color: #E8F0FE;\n",
              "      border: none;\n",
              "      border-radius: 50%;\n",
              "      cursor: pointer;\n",
              "      display: none;\n",
              "      fill: #1967D2;\n",
              "      height: 32px;\n",
              "      padding: 0 0 0 0;\n",
              "      width: 32px;\n",
              "    }\n",
              "\n",
              "    .colab-df-convert:hover {\n",
              "      background-color: #E2EBFA;\n",
              "      box-shadow: 0px 1px 2px rgba(60, 64, 67, 0.3), 0px 1px 3px 1px rgba(60, 64, 67, 0.15);\n",
              "      fill: #174EA6;\n",
              "    }\n",
              "\n",
              "    [theme=dark] .colab-df-convert {\n",
              "      background-color: #3B4455;\n",
              "      fill: #D2E3FC;\n",
              "    }\n",
              "\n",
              "    [theme=dark] .colab-df-convert:hover {\n",
              "      background-color: #434B5C;\n",
              "      box-shadow: 0px 1px 3px 1px rgba(0, 0, 0, 0.15);\n",
              "      filter: drop-shadow(0px 1px 2px rgba(0, 0, 0, 0.3));\n",
              "      fill: #FFFFFF;\n",
              "    }\n",
              "  </style>\n",
              "\n",
              "      <script>\n",
              "        const buttonEl =\n",
              "          document.querySelector('#df-44c868d7-f00d-495f-bc84-8964da6acbf9 button.colab-df-convert');\n",
              "        buttonEl.style.display =\n",
              "          google.colab.kernel.accessAllowed ? 'block' : 'none';\n",
              "\n",
              "        async function convertToInteractive(key) {\n",
              "          const element = document.querySelector('#df-44c868d7-f00d-495f-bc84-8964da6acbf9');\n",
              "          const dataTable =\n",
              "            await google.colab.kernel.invokeFunction('convertToInteractive',\n",
              "                                                     [key], {});\n",
              "          if (!dataTable) return;\n",
              "\n",
              "          const docLinkHtml = 'Like what you see? Visit the ' +\n",
              "            '<a target=\"_blank\" href=https://colab.research.google.com/notebooks/data_table.ipynb>data table notebook</a>'\n",
              "            + ' to learn more about interactive tables.';\n",
              "          element.innerHTML = '';\n",
              "          dataTable['output_type'] = 'display_data';\n",
              "          await google.colab.output.renderOutput(dataTable, element);\n",
              "          const docLink = document.createElement('div');\n",
              "          docLink.innerHTML = docLinkHtml;\n",
              "          element.appendChild(docLink);\n",
              "        }\n",
              "      </script>\n",
              "    </div>\n",
              "  </div>\n",
              "  "
            ]
          },
          "metadata": {},
          "execution_count": 42
        }
      ]
    },
    {
      "cell_type": "code",
      "source": [
        "# performance = pd.merge(test, forecast_univariate[['ds', 'yhat', 'yhat_lower', 'yhat_upper']][-1077:], on='ds')"
      ],
      "metadata": {
        "id": "8Zkv3crLoClP"
      },
      "execution_count": 43,
      "outputs": []
    },
    {
      "cell_type": "code",
      "source": [
        "y_true_multi = test['y'].values\n",
        "y_pred_multi = forecast_multivariate['yhat'].values"
      ],
      "metadata": {
        "id": "kAz1GuT5jv-C"
      },
      "execution_count": 44,
      "outputs": []
    },
    {
      "cell_type": "code",
      "source": [
        "#Calculate the mean absolute error\n",
        "\n",
        "mae_multi = mean_absolute_error(y_true_multi, y_pred_multi)\n",
        "print('MAE of multivariate model: %.3f' % mae_multi)"
      ],
      "metadata": {
        "colab": {
          "base_uri": "https://localhost:8080/"
        },
        "id": "IZlRpYROjzKZ",
        "outputId": "b70d9a39-b427-4d43-ce44-98af6048784c"
      },
      "execution_count": 45,
      "outputs": [
        {
          "output_type": "stream",
          "name": "stdout",
          "text": [
            "MAE of multivariate model: 41.691\n"
          ]
        }
      ]
    },
    {
      "cell_type": "code",
      "source": [
        "#Calculate the mean absolute percentage error\n",
        "\n",
        "mape_multi = mean_absolute_percentage_error(y_true_multi, y_pred_multi) * 100\n",
        "print('MAPE of multivariate model: %.2f' % mape_multi)"
      ],
      "metadata": {
        "colab": {
          "base_uri": "https://localhost:8080/"
        },
        "id": "P8bc81wWkDX8",
        "outputId": "410ece92-5cd1-4d88-97b9-243c649883da"
      },
      "execution_count": 46,
      "outputs": [
        {
          "output_type": "stream",
          "name": "stdout",
          "text": [
            "MAPE of multivariate model: 235.94\n"
          ]
        }
      ]
    },
    {
      "cell_type": "code",
      "source": [
        "#Calculate the mean squared error\n",
        "\n",
        "mse_multi = mean_squared_error(y_true_multi, y_pred_multi)\n",
        "print('MSE: %.3f' % mse_multi)"
      ],
      "metadata": {
        "colab": {
          "base_uri": "https://localhost:8080/"
        },
        "id": "z1rNOzDazJrl",
        "outputId": "9fa31dcb-4c4f-45ed-c4fa-b24010ff59c1"
      },
      "execution_count": 47,
      "outputs": [
        {
          "output_type": "stream",
          "name": "stdout",
          "text": [
            "MSE: 12769.714\n"
          ]
        }
      ]
    },
    {
      "cell_type": "code",
      "source": [
        "#Calculate the Root mean squared error\n",
        "import math\n",
        "\n",
        "rmse_multi = math.sqrt(mse_multi)\n",
        "print('RMSE: %.3f' % rmse_multi)"
      ],
      "metadata": {
        "colab": {
          "base_uri": "https://localhost:8080/"
        },
        "id": "5xXFPjxozV_D",
        "outputId": "106b457a-b271-4ccf-98f6-1cbca351f03e"
      },
      "execution_count": 48,
      "outputs": [
        {
          "output_type": "stream",
          "name": "stdout",
          "text": [
            "RMSE: 113.003\n"
          ]
        }
      ]
    },
    {
      "cell_type": "code",
      "source": [
        "print(\"The MAE for the Multivariate model :\", mae_multi)\n",
        "print(\"The MAPE for the Multivariate model :\", mape_multi)\n",
        "print(\"The RMSE for the Multivariate model :\", rmse_multi)"
      ],
      "metadata": {
        "colab": {
          "base_uri": "https://localhost:8080/"
        },
        "id": "kvtw0m6jkgUa",
        "outputId": "95d8a9a7-b829-49d8-d1ad-69b0854a1ef6"
      },
      "execution_count": 49,
      "outputs": [
        {
          "output_type": "stream",
          "name": "stdout",
          "text": [
            "The MAE for the Multivariate model : 41.69120453919763\n",
            "The MAPE for the Multivariate model : 235.93834251690328\n",
            "The RMSE for the Multivariate model : 113.00316145097925\n"
          ]
        }
      ]
    },
    {
      "cell_type": "code",
      "source": [
        "# plot expected vs actual\n",
        "plt.plot(y_true_multi, label='Actual')\n",
        "plt.plot(y_pred_multi, label='Predicted')\n",
        "plt.legend()\n",
        "plt.show()"
      ],
      "metadata": {
        "colab": {
          "base_uri": "https://localhost:8080/",
          "height": 268
        },
        "id": "4d0PtQDtkrje",
        "outputId": "d760011f-9ed8-467e-90a0-9fe44067119d"
      },
      "execution_count": 50,
      "outputs": [
        {
          "output_type": "display_data",
          "data": {
            "text/plain": [
              "<Figure size 432x288 with 1 Axes>"
            ],
            "image/png": "[encoded data removed]"
          },
          "metadata": {
            "needs_background": "light"
          }
        }
      ]
    },
    {
      "cell_type": "markdown",
      "source": [
        "## Multivariate model building df_daily without Tmax"
      ],
      "metadata": {
        "id": "N7X1QBVK-YUg"
      }
    },
    {
      "cell_type": "code",
      "source": [
        "#model building df_daily without Tmax\n",
        "\n",
        "model_multi = Prophet()\n",
        "# model_multivariate.add_regressor('tmax')\n",
        "model_multi.add_regressor('sysload')\n",
        "model_multi.add_regressor('gasprice')\n",
        "model_multi.fit(train)"
      ],
      "metadata": {
        "colab": {
          "base_uri": "https://localhost:8080/"
        },
        "id": "UcL53ggn06Pg",
        "outputId": "c0b40f20-4e9c-4bd3-e521-a23c3585695c"
      },
      "execution_count": 51,
      "outputs": [
        {
          "output_type": "stream",
          "name": "stderr",
          "text": [
            "INFO:prophet:Disabling daily seasonality. Run prophet with daily_seasonality=True to override this.\n",
            "DEBUG:cmdstanpy:input tempfile: /tmp/tmpr6qgeliq/wopmwmey.json\n",
            "DEBUG:cmdstanpy:input tempfile: /tmp/tmpr6qgeliq/l9k98ckm.json\n",
            "DEBUG:cmdstanpy:idx 0\n",
            "DEBUG:cmdstanpy:running CmdStan, num_threads: None\n",
            "DEBUG:cmdstanpy:CmdStan args: ['/usr/local/lib/python3.8/dist-packages/prophet/stan_model/prophet_model.bin', 'random', 'seed=66963', 'data', 'file=/tmp/tmpr6qgeliq/wopmwmey.json', 'init=/tmp/tmpr6qgeliq/l9k98ckm.json', 'output', 'file=/tmp/tmpr6qgeliq/prophet_model_1p794o0/prophet_model-20230122145648.csv', 'method=optimize', 'algorithm=lbfgs', 'iter=10000']\n",
            "14:56:48 - cmdstanpy - INFO - Chain [1] start processing\n",
            "INFO:cmdstanpy:Chain [1] start processing\n",
            "14:56:49 - cmdstanpy - INFO - Chain [1] done processing\n",
            "INFO:cmdstanpy:Chain [1] done processing\n"
          ]
        },
        {
          "output_type": "execute_result",
          "data": {
            "text/plain": [
              "<prophet.forecaster.Prophet at 0x7f0e0325b700>"
            ]
          },
          "metadata": {},
          "execution_count": 51
        }
      ]
    },
    {
      "cell_type": "code",
      "source": [
        "#make test data as the future into a dataframe without Tmax\n",
        "\n",
        "future_multi = pd.DataFrame(test[['ds','sysload','gasprice']])"
      ],
      "metadata": {
        "id": "jrskul5Y68-p"
      },
      "execution_count": 52,
      "outputs": []
    },
    {
      "cell_type": "code",
      "source": [
        "# Create the time range for the forecast\n",
        "# future_univariate = model_univariate.make_future_dataframe(test['ds'])\n",
        "\n",
        "# Make prediction\n",
        "forecast_multi = model_multi.predict(future_multi)\n",
        "\n",
        "# Visualize the forecast\n",
        "model_multi.plot(forecast_multi);"
      ],
      "metadata": {
        "id": "kPHeyNm-687Z",
        "colab": {
          "base_uri": "https://localhost:8080/",
          "height": 441
        },
        "outputId": "ca7228cb-5eda-4a5b-dcbc-786eaeb34432"
      },
      "execution_count": 53,
      "outputs": [
        {
          "output_type": "display_data",
          "data": {
            "text/plain": [
              "<Figure size 720x432 with 1 Axes>"
            ],
            "image/png": "[encoded data removed]"
          },
          "metadata": {}
        }
      ]
    },
    {
      "cell_type": "code",
      "source": [
        "# Visualize the forecast components\n",
        "model_multi.plot_components(forecast_multi);"
      ],
      "metadata": {
        "colab": {
          "base_uri": "https://localhost:8080/",
          "height": 873
        },
        "id": "BzrcRAVz8Km5",
        "outputId": "43f254f4-1a2f-4fc4-e156-a17d1eddf657"
      },
      "execution_count": 54,
      "outputs": [
        {
          "output_type": "display_data",
          "data": {
            "text/plain": [
              "<Figure size 648x864 with 4 Axes>"
            ],
            "image/png": "[encoded data removed]"
          },
          "metadata": {}
        }
      ]
    },
    {
      "cell_type": "code",
      "source": [
        "forecast_multi.head()"
      ],
      "metadata": {
        "colab": {
          "base_uri": "https://localhost:8080/",
          "height": 357
        },
        "id": "8m7D6PgJ8Kj0",
        "outputId": "8c483854-6d94-4e11-808a-2c0096a2160d"
      },
      "execution_count": 55,
      "outputs": [
        {
          "output_type": "execute_result",
          "data": {
            "text/plain": [
              "          ds                trend           yhat_lower           yhat_upper  \\\n",
              "0 2018-03-20                77.71               -14.75               180.05   \n",
              "1 2018-03-21                77.74               -11.54               171.75   \n",
              "2 2018-03-22                77.77                26.98               209.46   \n",
              "3 2018-03-23                77.80                19.59               199.12   \n",
              "4 2018-03-24                77.82               -32.80               153.03   \n",
              "\n",
              "           trend_lower          trend_upper       additive_terms  \\\n",
              "0                77.71                77.71                 5.03   \n",
              "1                77.74                77.74                 4.65   \n",
              "2                77.77                77.77                42.91   \n",
              "3                77.80                77.80                29.75   \n",
              "4                77.82                77.82               -18.07   \n",
              "\n",
              "   additive_terms_lower  additive_terms_upper  extra_regressors_additive  \\\n",
              "0                  5.03                  5.03                      10.15   \n",
              "1                  4.65                  4.65                       4.10   \n",
              "2                 42.91                 42.91                      37.87   \n",
              "3                 29.75                 29.75                      32.56   \n",
              "4                -18.07                -18.07                     -12.04   \n",
              "\n",
              "   extra_regressors_additive_lower  extra_regressors_additive_upper  \\\n",
              "0                            10.15                            10.15   \n",
              "1                             4.10                             4.10   \n",
              "2                            37.87                            37.87   \n",
              "3                            32.56                            32.56   \n",
              "4                           -12.04                           -12.04   \n",
              "\n",
              "              gasprice       gasprice_lower       gasprice_upper  \\\n",
              "0                45.80                45.80                45.80   \n",
              "1                46.82                46.82                46.82   \n",
              "2                46.82                46.82                46.82   \n",
              "3                44.00                44.00                44.00   \n",
              "4                32.76                32.76                32.76   \n",
              "\n",
              "               sysload        sysload_lower        sysload_upper  \\\n",
              "0               -35.65               -35.65               -35.65   \n",
              "1               -42.72               -42.72               -42.72   \n",
              "2                -8.95                -8.95                -8.95   \n",
              "3               -11.44               -11.44               -11.44   \n",
              "4               -44.80               -44.80               -44.80   \n",
              "\n",
              "                weekly         weekly_lower         weekly_upper  \\\n",
              "0                -3.51                -3.51                -3.51   \n",
              "1                 1.78                 1.78                 1.78   \n",
              "2                 6.06                 6.06                 6.06   \n",
              "3                -1.83                -1.83                -1.83   \n",
              "4                -4.91                -4.91                -4.91   \n",
              "\n",
              "                yearly         yearly_lower         yearly_upper  \\\n",
              "0                -1.61                -1.61                -1.61   \n",
              "1                -1.23                -1.23                -1.23   \n",
              "2                -1.02                -1.02                -1.02   \n",
              "3                -0.98                -0.98                -0.98   \n",
              "4                -1.11                -1.11                -1.11   \n",
              "\n",
              "   multiplicative_terms  multiplicative_terms_lower  \\\n",
              "0                  0.00                        0.00   \n",
              "1                  0.00                        0.00   \n",
              "2                  0.00                        0.00   \n",
              "3                  0.00                        0.00   \n",
              "4                  0.00                        0.00   \n",
              "\n",
              "   multiplicative_terms_upper                 yhat  \n",
              "0                        0.00                82.74  \n",
              "1                        0.00                82.39  \n",
              "2                        0.00               120.67  \n",
              "3                        0.00               107.54  \n",
              "4                        0.00                59.76  "
            ],
            "text/html": [
              "\n",
              "  <div id=\"df-62ec6794-5315-417f-b562-eddb36f512c3\">\n",
              "    <div class=\"colab-df-container\">\n",
              "      <div>\n",
              "<style scoped>\n",
              "    .dataframe tbody tr th:only-of-type {\n",
              "        vertical-align: middle;\n",
              "    }\n",
              "\n",
              "    .dataframe tbody tr th {\n",
              "        vertical-align: top;\n",
              "    }\n",
              "\n",
              "    .dataframe thead th {\n",
              "        text-align: right;\n",
              "    }\n",
              "</style>\n",
              "<table border=\"1\" class=\"dataframe\">\n",
              "  <thead>\n",
              "    <tr style=\"text-align: right;\">\n",
              "      <th></th>\n",
              "      <th>ds</th>\n",
              "      <th>trend</th>\n",
              "      <th>yhat_lower</th>\n",
              "      <th>yhat_upper</th>\n",
              "      <th>trend_lower</th>\n",
              "      <th>trend_upper</th>\n",
              "      <th>additive_terms</th>\n",
              "      <th>additive_terms_lower</th>\n",
              "      <th>additive_terms_upper</th>\n",
              "      <th>extra_regressors_additive</th>\n",
              "      <th>extra_regressors_additive_lower</th>\n",
              "      <th>extra_regressors_additive_upper</th>\n",
              "      <th>gasprice</th>\n",
              "      <th>gasprice_lower</th>\n",
              "      <th>gasprice_upper</th>\n",
              "      <th>sysload</th>\n",
              "      <th>sysload_lower</th>\n",
              "      <th>sysload_upper</th>\n",
              "      <th>weekly</th>\n",
              "      <th>weekly_lower</th>\n",
              "      <th>weekly_upper</th>\n",
              "      <th>yearly</th>\n",
              "      <th>yearly_lower</th>\n",
              "      <th>yearly_upper</th>\n",
              "      <th>multiplicative_terms</th>\n",
              "      <th>multiplicative_terms_lower</th>\n",
              "      <th>multiplicative_terms_upper</th>\n",
              "      <th>yhat</th>\n",
              "    </tr>\n",
              "  </thead>\n",
              "  <tbody>\n",
              "    <tr>\n",
              "      <th>0</th>\n",
              "      <td>2018-03-20</td>\n",
              "      <td>77.71</td>\n",
              "      <td>-14.75</td>\n",
              "      <td>180.05</td>\n",
              "      <td>77.71</td>\n",
              "      <td>77.71</td>\n",
              "      <td>5.03</td>\n",
              "      <td>5.03</td>\n",
              "      <td>5.03</td>\n",
              "      <td>10.15</td>\n",
              "      <td>10.15</td>\n",
              "      <td>10.15</td>\n",
              "      <td>45.80</td>\n",
              "      <td>45.80</td>\n",
              "      <td>45.80</td>\n",
              "      <td>-35.65</td>\n",
              "      <td>-35.65</td>\n",
              "      <td>-35.65</td>\n",
              "      <td>-3.51</td>\n",
              "      <td>-3.51</td>\n",
              "      <td>-3.51</td>\n",
              "      <td>-1.61</td>\n",
              "      <td>-1.61</td>\n",
              "      <td>-1.61</td>\n",
              "      <td>0.00</td>\n",
              "      <td>0.00</td>\n",
              "      <td>0.00</td>\n",
              "      <td>82.74</td>\n",
              "    </tr>\n",
              "    <tr>\n",
              "      <th>1</th>\n",
              "      <td>2018-03-21</td>\n",
              "      <td>77.74</td>\n",
              "      <td>-11.54</td>\n",
              "      <td>171.75</td>\n",
              "      <td>77.74</td>\n",
              "      <td>77.74</td>\n",
              "      <td>4.65</td>\n",
              "      <td>4.65</td>\n",
              "      <td>4.65</td>\n",
              "      <td>4.10</td>\n",
              "      <td>4.10</td>\n",
              "      <td>4.10</td>\n",
              "      <td>46.82</td>\n",
              "      <td>46.82</td>\n",
              "      <td>46.82</td>\n",
              "      <td>-42.72</td>\n",
              "      <td>-42.72</td>\n",
              "      <td>-42.72</td>\n",
              "      <td>1.78</td>\n",
              "      <td>1.78</td>\n",
              "      <td>1.78</td>\n",
              "      <td>-1.23</td>\n",
              "      <td>-1.23</td>\n",
              "      <td>-1.23</td>\n",
              "      <td>0.00</td>\n",
              "      <td>0.00</td>\n",
              "      <td>0.00</td>\n",
              "      <td>82.39</td>\n",
              "    </tr>\n",
              "    <tr>\n",
              "      <th>2</th>\n",
              "      <td>2018-03-22</td>\n",
              "      <td>77.77</td>\n",
              "      <td>26.98</td>\n",
              "      <td>209.46</td>\n",
              "      <td>77.77</td>\n",
              "      <td>77.77</td>\n",
              "      <td>42.91</td>\n",
              "      <td>42.91</td>\n",
              "      <td>42.91</td>\n",
              "      <td>37.87</td>\n",
              "      <td>37.87</td>\n",
              "      <td>37.87</td>\n",
              "      <td>46.82</td>\n",
              "      <td>46.82</td>\n",
              "      <td>46.82</td>\n",
              "      <td>-8.95</td>\n",
              "      <td>-8.95</td>\n",
              "      <td>-8.95</td>\n",
              "      <td>6.06</td>\n",
              "      <td>6.06</td>\n",
              "      <td>6.06</td>\n",
              "      <td>-1.02</td>\n",
              "      <td>-1.02</td>\n",
              "      <td>-1.02</td>\n",
              "      <td>0.00</td>\n",
              "      <td>0.00</td>\n",
              "      <td>0.00</td>\n",
              "      <td>120.67</td>\n",
              "    </tr>\n",
              "    <tr>\n",
              "      <th>3</th>\n",
              "      <td>2018-03-23</td>\n",
              "      <td>77.80</td>\n",
              "      <td>19.59</td>\n",
              "      <td>199.12</td>\n",
              "      <td>77.80</td>\n",
              "      <td>77.80</td>\n",
              "      <td>29.75</td>\n",
              "      <td>29.75</td>\n",
              "      <td>29.75</td>\n",
              "      <td>32.56</td>\n",
              "      <td>32.56</td>\n",
              "      <td>32.56</td>\n",
              "      <td>44.00</td>\n",
              "      <td>44.00</td>\n",
              "      <td>44.00</td>\n",
              "      <td>-11.44</td>\n",
              "      <td>-11.44</td>\n",
              "      <td>-11.44</td>\n",
              "      <td>-1.83</td>\n",
              "      <td>-1.83</td>\n",
              "      <td>-1.83</td>\n",
              "      <td>-0.98</td>\n",
              "      <td>-0.98</td>\n",
              "      <td>-0.98</td>\n",
              "      <td>0.00</td>\n",
              "      <td>0.00</td>\n",
              "      <td>0.00</td>\n",
              "      <td>107.54</td>\n",
              "    </tr>\n",
              "    <tr>\n",
              "      <th>4</th>\n",
              "      <td>2018-03-24</td>\n",
              "      <td>77.82</td>\n",
              "      <td>-32.80</td>\n",
              "      <td>153.03</td>\n",
              "      <td>77.82</td>\n",
              "      <td>77.82</td>\n",
              "      <td>-18.07</td>\n",
              "      <td>-18.07</td>\n",
              "      <td>-18.07</td>\n",
              "      <td>-12.04</td>\n",
              "      <td>-12.04</td>\n",
              "      <td>-12.04</td>\n",
              "      <td>32.76</td>\n",
              "      <td>32.76</td>\n",
              "      <td>32.76</td>\n",
              "      <td>-44.80</td>\n",
              "      <td>-44.80</td>\n",
              "      <td>-44.80</td>\n",
              "      <td>-4.91</td>\n",
              "      <td>-4.91</td>\n",
              "      <td>-4.91</td>\n",
              "      <td>-1.11</td>\n",
              "      <td>-1.11</td>\n",
              "      <td>-1.11</td>\n",
              "      <td>0.00</td>\n",
              "      <td>0.00</td>\n",
              "      <td>0.00</td>\n",
              "      <td>59.76</td>\n",
              "    </tr>\n",
              "  </tbody>\n",
              "</table>\n",
              "</div>\n",
              "      <button class=\"colab-df-convert\" onclick=\"convertToInteractive('df-62ec6794-5315-417f-b562-eddb36f512c3')\"\n",
              "              title=\"Convert this dataframe to an interactive table.\"\n",
              "              style=\"display:none;\">\n",
              "        \n",
              "  <svg xmlns=\"http://www.w3.org/2000/svg\" height=\"24px\"viewBox=\"0 0 24 24\"\n",
              "       width=\"24px\">\n",
              "    <path d=\"M0 0h24v24H0V0z\" fill=\"none\"/>\n",
              "    <path d=\"M18.56 5.44l.94 2.06.94-2.06 2.06-.94-2.06-.94-.94-2.06-.94 2.06-2.06.94zm-11 1L8.5 8.5l.94-2.06 2.06-.94-2.06-.94L8.5 2.5l-.94 2.06-2.06.94zm10 10l.94 2.06.94-2.06 2.06-.94-2.06-.94-.94-2.06-.94 2.06-2.06.94z\"/><path d=\"M17.41 7.96l-1.37-1.37c-.4-.4-.92-.59-1.43-.59-.52 0-1.04.2-1.43.59L10.3 9.45l-7.72 7.72c-.78.78-.78 2.05 0 2.83L4 21.41c.39.39.9.59 1.41.59.51 0 1.02-.2 1.41-.59l7.78-7.78 2.81-2.81c.8-.78.8-2.07 0-2.86zM5.41 20L4 18.59l7.72-7.72 1.47 1.35L5.41 20z\"/>\n",
              "  </svg>\n",
              "      </button>\n",
              "      \n",
              "  <style>\n",
              "    .colab-df-container {\n",
              "      display:flex;\n",
              "      flex-wrap:wrap;\n",
              "      gap: 12px;\n",
              "    }\n",
              "\n",
              "    .colab-df-convert {\n",
              "      background-color: #E8F0FE;\n",
              "      border: none;\n",
              "      border-radius: 50%;\n",
              "      cursor: pointer;\n",
              "      display: none;\n",
              "      fill: #1967D2;\n",
              "      height: 32px;\n",
              "      padding: 0 0 0 0;\n",
              "      width: 32px;\n",
              "    }\n",
              "\n",
              "    .colab-df-convert:hover {\n",
              "      background-color: #E2EBFA;\n",
              "      box-shadow: 0px 1px 2px rgba(60, 64, 67, 0.3), 0px 1px 3px 1px rgba(60, 64, 67, 0.15);\n",
              "      fill: #174EA6;\n",
              "    }\n",
              "\n",
              "    [theme=dark] .colab-df-convert {\n",
              "      background-color: #3B4455;\n",
              "      fill: #D2E3FC;\n",
              "    }\n",
              "\n",
              "    [theme=dark] .colab-df-convert:hover {\n",
              "      background-color: #434B5C;\n",
              "      box-shadow: 0px 1px 3px 1px rgba(0, 0, 0, 0.15);\n",
              "      filter: drop-shadow(0px 1px 2px rgba(0, 0, 0, 0.3));\n",
              "      fill: #FFFFFF;\n",
              "    }\n",
              "  </style>\n",
              "\n",
              "      <script>\n",
              "        const buttonEl =\n",
              "          document.querySelector('#df-62ec6794-5315-417f-b562-eddb36f512c3 button.colab-df-convert');\n",
              "        buttonEl.style.display =\n",
              "          google.colab.kernel.accessAllowed ? 'block' : 'none';\n",
              "\n",
              "        async function convertToInteractive(key) {\n",
              "          const element = document.querySelector('#df-62ec6794-5315-417f-b562-eddb36f512c3');\n",
              "          const dataTable =\n",
              "            await google.colab.kernel.invokeFunction('convertToInteractive',\n",
              "                                                     [key], {});\n",
              "          if (!dataTable) return;\n",
              "\n",
              "          const docLinkHtml = 'Like what you see? Visit the ' +\n",
              "            '<a target=\"_blank\" href=https://colab.research.google.com/notebooks/data_table.ipynb>data table notebook</a>'\n",
              "            + ' to learn more about interactive tables.';\n",
              "          element.innerHTML = '';\n",
              "          dataTable['output_type'] = 'display_data';\n",
              "          await google.colab.output.renderOutput(dataTable, element);\n",
              "          const docLink = document.createElement('div');\n",
              "          docLink.innerHTML = docLinkHtml;\n",
              "          element.appendChild(docLink);\n",
              "        }\n",
              "      </script>\n",
              "    </div>\n",
              "  </div>\n",
              "  "
            ]
          },
          "metadata": {},
          "execution_count": 55
        }
      ]
    },
    {
      "cell_type": "markdown",
      "source": [
        "clips the forecasts so that no value is negative (electricity price can't have a negative price!)"
      ],
      "metadata": {
        "id": "Xc-o6WUN8cWK"
      }
    },
    {
      "cell_type": "code",
      "source": [
        "forecast_multi.loc[:,'yhat'] = forecast_multi['yhat'].clip(lower=0)"
      ],
      "metadata": {
        "id": "c34I0-Kf8fqo"
      },
      "execution_count": 56,
      "outputs": []
    },
    {
      "cell_type": "code",
      "source": [
        "forecast_multi.loc[:,'yhat_lower'] = forecast_multi.yhat_lower.clip(lower=0)"
      ],
      "metadata": {
        "id": "I8CENiyP8l5I"
      },
      "execution_count": 57,
      "outputs": []
    },
    {
      "cell_type": "code",
      "source": [
        "forecast_multi[['ds' , 'yhat' , 'yhat_lower' , 'yhat_upper' , 'trend' , 'trend_lower' , 'trend_upper']].head()"
      ],
      "metadata": {
        "colab": {
          "base_uri": "https://localhost:8080/",
          "height": 206
        },
        "id": "22n1Kfk48rgY",
        "outputId": "ee89111a-9dbb-4e41-8abb-4c0c5771d129"
      },
      "execution_count": 58,
      "outputs": [
        {
          "output_type": "execute_result",
          "data": {
            "text/plain": [
              "          ds                 yhat           yhat_lower           yhat_upper  \\\n",
              "0 2018-03-20                82.74                 0.00               180.05   \n",
              "1 2018-03-21                82.39                 0.00               171.75   \n",
              "2 2018-03-22               120.67                26.98               209.46   \n",
              "3 2018-03-23               107.54                19.59               199.12   \n",
              "4 2018-03-24                59.76                 0.00               153.03   \n",
              "\n",
              "                 trend          trend_lower          trend_upper  \n",
              "0                77.71                77.71                77.71  \n",
              "1                77.74                77.74                77.74  \n",
              "2                77.77                77.77                77.77  \n",
              "3                77.80                77.80                77.80  \n",
              "4                77.82                77.82                77.82  "
            ],
            "text/html": [
              "\n",
              "  <div id=\"df-d9c8dcc7-5089-482a-b918-dd4955115aaf\">\n",
              "    <div class=\"colab-df-container\">\n",
              "      <div>\n",
              "<style scoped>\n",
              "    .dataframe tbody tr th:only-of-type {\n",
              "        vertical-align: middle;\n",
              "    }\n",
              "\n",
              "    .dataframe tbody tr th {\n",
              "        vertical-align: top;\n",
              "    }\n",
              "\n",
              "    .dataframe thead th {\n",
              "        text-align: right;\n",
              "    }\n",
              "</style>\n",
              "<table border=\"1\" class=\"dataframe\">\n",
              "  <thead>\n",
              "    <tr style=\"text-align: right;\">\n",
              "      <th></th>\n",
              "      <th>ds</th>\n",
              "      <th>yhat</th>\n",
              "      <th>yhat_lower</th>\n",
              "      <th>yhat_upper</th>\n",
              "      <th>trend</th>\n",
              "      <th>trend_lower</th>\n",
              "      <th>trend_upper</th>\n",
              "    </tr>\n",
              "  </thead>\n",
              "  <tbody>\n",
              "    <tr>\n",
              "      <th>0</th>\n",
              "      <td>2018-03-20</td>\n",
              "      <td>82.74</td>\n",
              "      <td>0.00</td>\n",
              "      <td>180.05</td>\n",
              "      <td>77.71</td>\n",
              "      <td>77.71</td>\n",
              "      <td>77.71</td>\n",
              "    </tr>\n",
              "    <tr>\n",
              "      <th>1</th>\n",
              "      <td>2018-03-21</td>\n",
              "      <td>82.39</td>\n",
              "      <td>0.00</td>\n",
              "      <td>171.75</td>\n",
              "      <td>77.74</td>\n",
              "      <td>77.74</td>\n",
              "      <td>77.74</td>\n",
              "    </tr>\n",
              "    <tr>\n",
              "      <th>2</th>\n",
              "      <td>2018-03-22</td>\n",
              "      <td>120.67</td>\n",
              "      <td>26.98</td>\n",
              "      <td>209.46</td>\n",
              "      <td>77.77</td>\n",
              "      <td>77.77</td>\n",
              "      <td>77.77</td>\n",
              "    </tr>\n",
              "    <tr>\n",
              "      <th>3</th>\n",
              "      <td>2018-03-23</td>\n",
              "      <td>107.54</td>\n",
              "      <td>19.59</td>\n",
              "      <td>199.12</td>\n",
              "      <td>77.80</td>\n",
              "      <td>77.80</td>\n",
              "      <td>77.80</td>\n",
              "    </tr>\n",
              "    <tr>\n",
              "      <th>4</th>\n",
              "      <td>2018-03-24</td>\n",
              "      <td>59.76</td>\n",
              "      <td>0.00</td>\n",
              "      <td>153.03</td>\n",
              "      <td>77.82</td>\n",
              "      <td>77.82</td>\n",
              "      <td>77.82</td>\n",
              "    </tr>\n",
              "  </tbody>\n",
              "</table>\n",
              "</div>\n",
              "      <button class=\"colab-df-convert\" onclick=\"convertToInteractive('df-d9c8dcc7-5089-482a-b918-dd4955115aaf')\"\n",
              "              title=\"Convert this dataframe to an interactive table.\"\n",
              "              style=\"display:none;\">\n",
              "        \n",
              "  <svg xmlns=\"http://www.w3.org/2000/svg\" height=\"24px\"viewBox=\"0 0 24 24\"\n",
              "       width=\"24px\">\n",
              "    <path d=\"M0 0h24v24H0V0z\" fill=\"none\"/>\n",
              "    <path d=\"M18.56 5.44l.94 2.06.94-2.06 2.06-.94-2.06-.94-.94-2.06-.94 2.06-2.06.94zm-11 1L8.5 8.5l.94-2.06 2.06-.94-2.06-.94L8.5 2.5l-.94 2.06-2.06.94zm10 10l.94 2.06.94-2.06 2.06-.94-2.06-.94-.94-2.06-.94 2.06-2.06.94z\"/><path d=\"M17.41 7.96l-1.37-1.37c-.4-.4-.92-.59-1.43-.59-.52 0-1.04.2-1.43.59L10.3 9.45l-7.72 7.72c-.78.78-.78 2.05 0 2.83L4 21.41c.39.39.9.59 1.41.59.51 0 1.02-.2 1.41-.59l7.78-7.78 2.81-2.81c.8-.78.8-2.07 0-2.86zM5.41 20L4 18.59l7.72-7.72 1.47 1.35L5.41 20z\"/>\n",
              "  </svg>\n",
              "      </button>\n",
              "      \n",
              "  <style>\n",
              "    .colab-df-container {\n",
              "      display:flex;\n",
              "      flex-wrap:wrap;\n",
              "      gap: 12px;\n",
              "    }\n",
              "\n",
              "    .colab-df-convert {\n",
              "      background-color: #E8F0FE;\n",
              "      border: none;\n",
              "      border-radius: 50%;\n",
              "      cursor: pointer;\n",
              "      display: none;\n",
              "      fill: #1967D2;\n",
              "      height: 32px;\n",
              "      padding: 0 0 0 0;\n",
              "      width: 32px;\n",
              "    }\n",
              "\n",
              "    .colab-df-convert:hover {\n",
              "      background-color: #E2EBFA;\n",
              "      box-shadow: 0px 1px 2px rgba(60, 64, 67, 0.3), 0px 1px 3px 1px rgba(60, 64, 67, 0.15);\n",
              "      fill: #174EA6;\n",
              "    }\n",
              "\n",
              "    [theme=dark] .colab-df-convert {\n",
              "      background-color: #3B4455;\n",
              "      fill: #D2E3FC;\n",
              "    }\n",
              "\n",
              "    [theme=dark] .colab-df-convert:hover {\n",
              "      background-color: #434B5C;\n",
              "      box-shadow: 0px 1px 3px 1px rgba(0, 0, 0, 0.15);\n",
              "      filter: drop-shadow(0px 1px 2px rgba(0, 0, 0, 0.3));\n",
              "      fill: #FFFFFF;\n",
              "    }\n",
              "  </style>\n",
              "\n",
              "      <script>\n",
              "        const buttonEl =\n",
              "          document.querySelector('#df-d9c8dcc7-5089-482a-b918-dd4955115aaf button.colab-df-convert');\n",
              "        buttonEl.style.display =\n",
              "          google.colab.kernel.accessAllowed ? 'block' : 'none';\n",
              "\n",
              "        async function convertToInteractive(key) {\n",
              "          const element = document.querySelector('#df-d9c8dcc7-5089-482a-b918-dd4955115aaf');\n",
              "          const dataTable =\n",
              "            await google.colab.kernel.invokeFunction('convertToInteractive',\n",
              "                                                     [key], {});\n",
              "          if (!dataTable) return;\n",
              "\n",
              "          const docLinkHtml = 'Like what you see? Visit the ' +\n",
              "            '<a target=\"_blank\" href=https://colab.research.google.com/notebooks/data_table.ipynb>data table notebook</a>'\n",
              "            + ' to learn more about interactive tables.';\n",
              "          element.innerHTML = '';\n",
              "          dataTable['output_type'] = 'display_data';\n",
              "          await google.colab.output.renderOutput(dataTable, element);\n",
              "          const docLink = document.createElement('div');\n",
              "          docLink.innerHTML = docLinkHtml;\n",
              "          element.appendChild(docLink);\n",
              "        }\n",
              "      </script>\n",
              "    </div>\n",
              "  </div>\n",
              "  "
            ]
          },
          "metadata": {},
          "execution_count": 58
        }
      ]
    },
    {
      "cell_type": "code",
      "source": [
        "y_true_m = test['y'].values\n",
        "y_pred_m = forecast_multi['yhat'].values"
      ],
      "metadata": {
        "id": "5lFzeSb48yzd"
      },
      "execution_count": 59,
      "outputs": []
    },
    {
      "cell_type": "code",
      "source": [
        "#Calculate the mean absolute percentage error of multivariate model without Tmax\n",
        "\n",
        "mape_m = mean_absolute_percentage_error(y_true_m, y_pred_m) * 100\n",
        "print('MAPE of multivariate model: %.2f' % mape_m)"
      ],
      "metadata": {
        "colab": {
          "base_uri": "https://localhost:8080/"
        },
        "id": "31V6OMx587y3",
        "outputId": "e336bd8a-23e7-4769-d8ba-bafc12e0c2fb"
      },
      "execution_count": 60,
      "outputs": [
        {
          "output_type": "stream",
          "name": "stdout",
          "text": [
            "MAPE of multivariate model: 230.78\n"
          ]
        }
      ]
    },
    {
      "cell_type": "code",
      "source": [
        "# ADF of sysload\n",
        "\n",
        "from statsmodels.tsa.stattools import adfuller\n",
        "adf_result = adfuller(df_daily[ 'sysload' ])\n",
        "print( f'ADF Statistic: {adf_result[ 0 ]} ' )\n",
        "print( f'p-value: {adf_result[ 1 ]} ' )\n",
        "print( f'No. of lags used: {adf_result[ 2 ]} ' )\n",
        "print( f'No. of observations used : {adf_result[ 3 ]} ' )\n",
        "print( 'Critical Values:' )\n",
        "for k, v in adf_result[ 4 ].items():\n",
        " print( f' {k} : {v} ' ) "
      ],
      "metadata": {
        "colab": {
          "base_uri": "https://localhost:8080/"
        },
        "id": "3BsHKg4zvxGB",
        "outputId": "517d8658-9e65-4e4c-9161-96693cae4023"
      },
      "execution_count": 61,
      "outputs": [
        {
          "output_type": "stream",
          "name": "stdout",
          "text": [
            "ADF Statistic: -3.6901589888366413 \n",
            "p-value: 0.0042537255045741835 \n",
            "No. of lags used: 30 \n",
            "No. of observations used : 3803 \n",
            "Critical Values:\n",
            " 1% : -3.432070672988693 \n",
            " 5% : -2.8623002987378547 \n",
            " 10% : -2.567174716967499 \n"
          ]
        }
      ]
    },
    {
      "cell_type": "code",
      "source": [
        "# ADF of gasprice\n",
        "\n",
        "from statsmodels.tsa.stattools import adfuller\n",
        "adf_result = adfuller(df_daily[ 'gasprice' ])\n",
        "print( f'ADF Statistic: {adf_result[ 0 ]} ' )\n",
        "print( f'p-value: {adf_result[ 1 ]} ' )\n",
        "print( f'No. of lags used: {adf_result[ 2 ]} ' )\n",
        "print( f'No. of observations used : {adf_result[ 3 ]} ' )\n",
        "print( 'Critical Values:' )\n",
        "for k, v in adf_result[ 4 ].items():\n",
        " print( f' {k} : {v} ' ) "
      ],
      "metadata": {
        "colab": {
          "base_uri": "https://localhost:8080/"
        },
        "id": "DmA9gzmnwKmm",
        "outputId": "cd4daa97-1490-434c-e7b4-9385085e747d"
      },
      "execution_count": 62,
      "outputs": [
        {
          "output_type": "stream",
          "name": "stdout",
          "text": [
            "ADF Statistic: -2.902766697165181 \n",
            "p-value: 0.045027212884625294 \n",
            "No. of lags used: 27 \n",
            "No. of observations used : 3806 \n",
            "Critical Values:\n",
            " 1% : -3.4320693157877544 \n",
            " 5% : -2.8622996992165364 \n",
            " 10% : -2.5671743978048323 \n"
          ]
        }
      ]
    },
    {
      "cell_type": "code",
      "source": [
        "# ADF of elecprice (y)\n",
        "\n",
        "from statsmodels.tsa.stattools import adfuller\n",
        "adf_result = adfuller(df_daily[ 'y' ])\n",
        "print( f'ADF Statistic: {adf_result[ 0 ]} ' )\n",
        "print( f'p-value: {adf_result[ 1 ]} ' )\n",
        "print( f'No. of lags used: {adf_result[ 2 ]} ' )\n",
        "print( f'No. of observations used : {adf_result[ 3 ]} ' )\n",
        "print( 'Critical Values:' )\n",
        "for k, v in adf_result[ 4 ].items():\n",
        " print( f' {k} : {v} ' ) "
      ],
      "metadata": {
        "colab": {
          "base_uri": "https://localhost:8080/"
        },
        "id": "jLDxqeyswUqb",
        "outputId": "887d96eb-5465-4fd4-da09-f8d24975be53"
      },
      "execution_count": 63,
      "outputs": [
        {
          "output_type": "stream",
          "name": "stdout",
          "text": [
            "ADF Statistic: -8.269053866873804 \n",
            "p-value: 4.848817773711633e-13 \n",
            "No. of lags used: 20 \n",
            "No. of observations used : 3813 \n",
            "Critical Values:\n",
            " 1% : -3.432066157296446 \n",
            " 5% : -2.8622983040036005 \n",
            " 10% : -2.5671736550459663 \n"
          ]
        }
      ]
    }
  ]
}